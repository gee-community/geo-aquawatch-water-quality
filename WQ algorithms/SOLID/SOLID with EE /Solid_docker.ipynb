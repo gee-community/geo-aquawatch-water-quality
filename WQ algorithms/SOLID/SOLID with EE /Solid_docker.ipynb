{
 "cells": [
  {
   "cell_type": "markdown",
   "metadata": {
    "id": "iPkLKBuTQU5Y"
   },
   "source": [
    "# Run the Python version of SOLID"
   ]
  },
  {
   "cell_type": "markdown",
   "metadata": {
    "id": "8eYEd3A1RNuE"
   },
   "source": [
    "Import libraries."
   ]
  },
  {
   "cell_type": "code",
   "execution_count": 1,
   "metadata": {
    "id": "8hDov5M7qXYy"
   },
   "outputs": [],
   "source": [
    "from MDN.benchmarks.tss.SOLID.model import model as SOLID\n",
    "from MDN import get_tile_data, image_estimates\n",
    " \n",
    "import matplotlib.pyplot as plt\n",
    "import numpy as np \n",
    "import os"
   ]
  },
  {
   "cell_type": "code",
   "execution_count": 2,
   "metadata": {
    "id": "Dvb_2HWhZ_e9"
   },
   "outputs": [],
   "source": [
    "import sys\n",
    "sys.argv=['']\n",
    "del sys"
   ]
  },
  {
   "cell_type": "markdown",
   "metadata": {
    "id": "gCUwwmqjRWCg"
   },
   "source": [
    "Setup parameters for SOLID."
   ]
  },
  {
   "cell_type": "code",
   "execution_count": null,
   "metadata": {
    "id": "HWvIBAcxsLMm"
   },
   "outputs": [],
   "source": [
    "path   =  './assets/S2A_MSI_2018_12_27_16_02_16_T18SUJ_L2W.nc'\n",
    "sensor = 'MSI'\n",
    "\n",
    "     # Extract relevant wavelengths and respective Rrs from the netcdf\n",
    "wavelengths, Rrs = get_tile_data(path, sensor, allow_neg=False) \n",
    "print(f'Wavelengths: {wavelengths}  Rrs shape: {Rrs.shape}')\n",
    "\n",
    "    # Apply SOLID to the extracted Rrs\n",
    "MDN_kwargs = {\n",
    "   'verbose'    : True,  # Whether to shown progress through bagging rounds\n",
    "   'use_gpu'    : False, # Whether to run predictions on /gpu:0, if available.\n",
    "   'chunk_size' : None,  # Number of samples the model is applied to at one time. None indicates full set is estimated at once.\n",
    "}"
   ]
  },
  {
   "cell_type": "markdown",
   "metadata": {
    "id": "x1bHAc1xRY51"
   },
   "source": [
    "Run SOLID and plot predictions."
   ]
  },
  {
   "cell_type": "code",
   "execution_count": null,
   "metadata": {
    "id": "ayAWcR4Qsh1F"
   },
   "outputs": [],
   "source": [
    "tss = image_estimates(Rrs, function=SOLID, wavelengths=wavelengths, sensor=sensor, **MDN_kwargs)\n",
    "print(f'TSS shape: {tss.shape}')\n",
    " \n",
    "plt.imshow(np.squeeze(tss), vmin=0, vmax=100)\n",
    "plt.colorbar()\n",
    "plt.title('2018-12-27 : MSI @ 60m')\n",
    "plt.gca().tick_params(labelcolor='none', bottom=False, left=False)\n",
    "#plt.savefig('SOLID_20181227.png', bbox_inches='tight', pad_inches=0.1)\n",
    "plt.show()"
   ]
  },
  {
   "cell_type": "markdown",
   "metadata": {
    "id": "VwpCNHHQOt42"
   },
   "source": [
    "# Prepare input file for Earth Engine"
   ]
  },
  {
   "cell_type": "markdown",
   "metadata": {
    "id": "s9OSzpPyReXl"
   },
   "source": [
    "Netcdf file has to be converted to geotiff before it can be uploaded to Earth Engine. We use gdal to convert it.\n",
    "\n",
    "\n"
   ]
  },
  {
   "cell_type": "code",
   "execution_count": 7,
   "metadata": {
    "id": "-5KWljDuIyaD"
   },
   "outputs": [],
   "source": [
    "from osgeo import gdal, osr, gdal_array\n",
    "import numpy as np\n",
    "import pandas as pd"
   ]
  },
  {
   "cell_type": "markdown",
   "metadata": {
    "id": "Ms4_SVskRvOU"
   },
   "source": [
    "Inspect netcdf file"
   ]
  },
  {
   "cell_type": "code",
   "execution_count": null,
   "metadata": {
    "id": "qe3UK8ahKwVC"
   },
   "outputs": [],
   "source": [
    "ds = gdal.Open(path)\n",
    "for item in ds.GetSubDatasets():\n",
    "    print(item[0])\n",
    "    index = item[0].rfind(':') + 1\n",
    "    print(item[0][index:])"
   ]
  },
  {
   "cell_type": "markdown",
   "metadata": {
    "id": "GIRkrQE_R0-e"
   },
   "source": [
    "Find geo transform by reading lon and lat values from netcdf file."
   ]
  },
  {
   "cell_type": "code",
   "execution_count": 9,
   "metadata": {
    "id": "w9FmLcXhStzc"
   },
   "outputs": [
    {
     "name": "stdout",
     "output_type": "stream",
     "text": [
      "shape: (1069, 805)\n",
      "rasterXSize: 805\n",
      "rasterYSize: 1069\n",
      "longitude min: -76.60002136230469\n",
      "longitude max: -76.05133056640625\n",
      "latitude min: 39.04213333129883\n",
      "latitude max: 39.625762939453125\n",
      "geo transform: (-76.60002, 0.0006816034731657608, 0.0, 39.042133, 0.0, 0.0005459584734839073)\n"
     ]
    }
   ],
   "source": [
    "subset = gdal.Open('NETCDF:\"' + path + '\":lon')\n",
    "\n",
    "print(f'shape: {subset.ReadAsArray().shape}')\n",
    "print(f'rasterXSize: {subset.RasterXSize}')\n",
    "print(f'rasterYSize: {subset.RasterYSize}')\n",
    "\n",
    "lngmin  = subset.ReadAsArray()[0,0]\n",
    "lngmax = subset.ReadAsArray()[subset.RasterYSize - 1, subset.RasterXSize - 1]\n",
    "print(f'longitude min: {lngmin}')\n",
    "print(f'longitude max: {lngmax}')\n",
    "\n",
    "subset = gdal.Open('NETCDF:\"' + path + '\":lat')\n",
    "latmin  = subset.ReadAsArray()[0,0]\n",
    "latmax = subset.ReadAsArray()[subset.RasterYSize - 1, subset.RasterXSize - 1]\n",
    "print(f'latitude min: {latmin}')\n",
    "print(f'latitude max: {latmax}')\n",
    "\n",
    "transform = (lngmin, (lngmax - lngmin) / subset.RasterXSize, 0.0, latmin, 0.0, (latmax - latmin) / subset.RasterYSize)\n",
    "print(f'geo transform: {transform}')\n"
   ]
  },
  {
   "cell_type": "markdown",
   "metadata": {
    "id": "yaYy2eghSd84"
   },
   "source": [
    "Define method for converting to geotiff."
   ]
  },
  {
   "cell_type": "code",
   "execution_count": 10,
   "metadata": {
    "id": "P1nLx5k3cPXw"
   },
   "outputs": [],
   "source": [
    "import os\n",
    "\n",
    "def create_geotiff(suffix, input_file, result, geot):\n",
    "    # Get subdatasets \n",
    "    ds = gdal.Open(input_file)\n",
    "    subsets = ds.GetSubDatasets()\n",
    "\n",
    "    # Read the first one \n",
    "    sub_ds = gdal.Open(subsets[0][0])\n",
    "    xsize = sub_ds.RasterXSize\n",
    "    ysize = sub_ds.RasterYSize\n",
    "    data = sub_ds.ReadAsArray(0, 0, xsize, ysize)\n",
    "    dt = gdal_array.NumericTypeCodeToGDALTypeCode(data.dtype)\n",
    "    if type(dt) != np.int:\n",
    "        if dt.startswith('gdal.GDT_') is False:\n",
    "            dt = eval('gdal.GDT_'+dt)\n",
    "    new_fname = suffix + '.tif'\n",
    "    \n",
    "    # Define projection\n",
    "    proj = osr.SpatialReference()\n",
    "    proj.SetWellKnownGeogCS('WGS84')\n",
    "\n",
    "    driver = gdal.GetDriverByName('GTiff')\n",
    "    zsize = len(subsets) + 1\n",
    "    ds = driver.Create(new_fname, xsize, ysize, zsize, dt)\n",
    "    ds.SetProjection(proj.ExportToWkt())\n",
    "    ds.SetGeoTransform(geot)\n",
    "\n",
    "    for index in range(0, len(subsets) - 1):\n",
    "      subset = gdal.Open(subsets[index][0])\n",
    "      data = subset.ReadAsArray(0, 0, xsize, ysize)\n",
    "      ndv = subset.GetRasterBand(1).GetNoDataValue()\n",
    "      d = data\n",
    "#      d = np.flip(data, 0)\n",
    "      d[np.isnan(d)] = ndv\n",
    "      ds.GetRasterBand(index + 1).WriteArray(d)\n",
    "      ds.GetRasterBand(index + 1).SetNoDataValue(ndv)\n",
    "      print(f'(Writing band: {subsets[index][0]}')\n",
    "\n",
    "    d = np.flip(result, 0)\n",
    "    subset = gdal.Open(subsets[2][0])\n",
    "    d[np.isnan(d)] = subset.GetRasterBand(1).GetNoDataValue()\n",
    "    ds.GetRasterBand(len(subsets) + 1 ).WriteArray(d)\n",
    "    ds.GetRasterBand(len(subsets) + 1).SetNoDataValue(ndv)\n",
    "    print(f'(Writing band tss')\n",
    "\n",
    "    ds.FlushCache()\n",
    "    return new_fname"
   ]
  },
  {
   "cell_type": "markdown",
   "metadata": {
    "id": "5G6BTdAUSktc"
   },
   "source": [
    "Convert prediction result to geotiff and write it to google drive.\n",
    "\n",
    "\n"
   ]
  },
  {
   "cell_type": "code",
   "execution_count": null,
   "metadata": {
    "id": "k5xh_vtocYnn"
   },
   "outputs": [],
   "source": [
    "#subset = gdal.Open('NETCDF:\"/content/drive/MyDrive/S2A_MSI_2018_12_27_16_02_16_T18SUJ_L2W.nc\":Rrs_443')\n",
    "#ndv, xs, ys, geot, proj = get_netcdf_info(path, 'Rrs_443')\n",
    "\n",
    "outdir = './'\n",
    "outname = 'geotiff'\n",
    "#create_geotiff('{}{}out_{}'.format(outdir, os.path.sep, outname), subset.ReadAsArray()[0:1069, 0: 805], ndv, xs, ys, transform, proj)\n",
    "#create_geotiff('{}{}out_{}'.format(outdir, os.path.sep, outname), tss[:,:,0], ndv, xs, ys, transform)#\n",
    "create_geotiff('{}{}out_{}'.format(outdir, os.path.sep, outname), path, tss[:,:,0], transform)"
   ]
  },
  {
   "cell_type": "markdown",
   "metadata": {
    "id": "Y3JXHAFaSwSW"
   },
   "source": [
    "File has to be uploaded to Google bucket first before uploading it to Earth Engine. Login to Google Cloud."
   ]
  },
  {
   "cell_type": "code",
   "execution_count": 12,
   "metadata": {
    "id": "MZLxXIGjuuTv"
   },
   "outputs": [],
   "source": [
    "from google.cloud import storage\n",
    "def upload_blob(bucket_name, source_file_name, destination_blob_name):\n",
    "    \"\"\"Uploads a file to the bucket.\"\"\"\n",
    "\n",
    "    storage_client = storage.Client()\n",
    "\n",
    "    bucket = storage_client.bucket(bucket_name)\n",
    "    blob = bucket.blob(destination_blob_name)\n",
    "\n",
    "    blob.upload_from_filename(source_file_name)\n",
    "\n",
    "    print(\n",
    "        \"File {} uploaded to {}.\".format(\n",
    "            source_file_name, destination_blob_name\n",
    "        )\n",
    "    )\n"
   ]
  },
  {
   "cell_type": "markdown",
   "metadata": {
    "id": "rtFADZftTIzI"
   },
   "source": [
    "Upload file to bucket."
   ]
  },
  {
   "cell_type": "code",
   "execution_count": null,
   "metadata": {
    "id": "g3GVQGTbOJ1c"
   },
   "outputs": [],
   "source": [
    "BUCKET_NAME = os.environ.get('BUCKET')\n",
    "upload_blob(BUCKET_NAME, 'out_geotiff.tif', 'solid.tif')"
   ]
  },
  {
   "cell_type": "markdown",
   "metadata": {},
   "source": [
    "Check files in bucket"
   ]
  },
  {
   "cell_type": "code",
   "execution_count": null,
   "metadata": {},
   "outputs": [],
   "source": [
    "from google.cloud import storage\n",
    "BUCKET_NAME = os.environ.get('BUCKET')\n",
    "storage_client = storage.Client()\n",
    "blobs = storage_client.list_blobs(BUCKET_NAME)\n",
    "print(\"Files:\")\n",
    "for blob in blobs:\n",
    "    print(blob.name)"
   ]
  },
  {
   "cell_type": "markdown",
   "metadata": {
    "id": "X__Jri-PTN8m"
   },
   "source": [
    "Sign in to Earth Engine."
   ]
  },
  {
   "cell_type": "code",
   "execution_count": null,
   "metadata": {
    "id": "TOFv0Zb3vF0R"
   },
   "outputs": [],
   "source": [
    "import ee\n",
    "ee.Authenticate()\n",
    "ee.Initialize()"
   ]
  },
  {
   "cell_type": "markdown",
   "metadata": {
    "id": "TaD48wuaTXjK"
   },
   "source": [
    "Upload file to Earth Engine from Google Cloud Storage. Change the ASSET_ID to your asset id."
   ]
  },
  {
   "cell_type": "code",
   "execution_count": null,
   "metadata": {
    "id": "_bzRGWfjvstz"
   },
   "outputs": [],
   "source": [
    "import json\n",
    "ASSET_ID = os.environ.get('EE_ASSET_ID')\n",
    "GS_URL = 'gs://' + BUCKET_NAME + '/solid.tif'\n",
    "manifest = {\n",
    "  \"name\": \"projects/earthengine-legacy/assets/\" + ASSET_ID,\n",
    "  \"tilesets\": [\n",
    "    {\n",
    "      \"sources\": [\n",
    "        {\n",
    "          \"uris\": [\n",
    "            GS_URL\n",
    "          ]\n",
    "        }\n",
    "      ]\n",
    "    }\n",
    "  ]\n",
    "}\n",
    "ds = gdal.Open(path)\n",
    "bands = []\n",
    "ind = 0\n",
    "print(\"Writing bands:\")\n",
    "for item in ds.GetSubDatasets():\n",
    "    index = item[0].rfind(':') + 1\n",
    "    band = item[0][index:]\n",
    "    print(band)\n",
    "    bands.append({\"id\": band, \"tileset_band_index\": ind})\n",
    "    ind += 1\n",
    "\n",
    "bands.append({\"id\": \"tss\", \"tileset_band_index\": ind})\n",
    "print(\"tss\")\n",
    "manifest[\"bands\"] = bands\n",
    "MANIFEST_FILE = outdir + \"/maifest.json\"\n",
    "f = open(MANIFEST_FILE, \"w\")\n",
    "f.write(json.dumps(manifest))\n",
    "f.close()\n",
    "\n",
    "!earthengine upload image --manifest {MANIFEST_FILE}"
   ]
  },
  {
   "cell_type": "markdown",
   "metadata": {
    "id": "hvyTyj4VTgud"
   },
   "source": [
    "Check upload job."
   ]
  },
  {
   "cell_type": "code",
   "execution_count": null,
   "metadata": {
    "id": "Ru8QEaLFMaL5"
   },
   "outputs": [],
   "source": [
    "ee.batch.Task.list()[0]"
   ]
  },
  {
   "cell_type": "markdown",
   "metadata": {
    "id": "tCPDcediTnWn"
   },
   "source": [
    "Now that results are available in Earth Engine show it on map.\n"
   ]
  },
  {
   "cell_type": "code",
   "execution_count": null,
   "metadata": {
    "id": "uneIt1XLOZdj"
   },
   "outputs": [],
   "source": [
    "import folium\n",
    "ASSET_ID = os.environ.get('EE_ASSET_ID')\n",
    "\n",
    "image = ee.Image(ASSET_ID)\n",
    "vis = {\n",
    "  'bands': ['tss'],\n",
    "  'min': 0,\n",
    "  'max': 100,\n",
    "  'palette': ['081d58','253494','225ea8','1d91c0','41b6c4','7fcdbb','c7e9b4','edf8b1','ffffd9']\n",
    "}\n",
    "map_id = image.getMapId(vis)\n",
    "map = folium.Map(location=[39.279839, -76.31669])\n",
    "folium.TileLayer(\n",
    "  tiles=map_id['tile_fetcher'].url_format,\n",
    "  attr='Map Data &copy; <a href=\"https://earthengine.google.com/\">Google Earth Engine</a>',\n",
    "  overlay=True,\n",
    "  name='Prediction for TSS',\n",
    ").add_to(map)\n",
    "\n",
    "display(map)"
   ]
  },
  {
   "cell_type": "markdown",
   "metadata": {
    "id": "AhoiKB-Hb9OY"
   },
   "source": [
    "# Use Earth Engine asset as input to calculation\n",
    "Now, that we have imported the input image to EE, let's try to use the Earth Engine image itself to do the calculation. We convert each band to a numpy array and stack them to a 3 dim tensor. \n",
    "Since 'sampleRectangle' works only for small rectangles, the selected rectangle is subdivided and the parts are stacked together. "
   ]
  },
  {
   "cell_type": "code",
   "execution_count": 7,
   "metadata": {
    "id": "Z8Glfpb1cfRu"
   },
   "outputs": [],
   "source": [
    "def convert_image(image, band_names, lng_min, lng_max, lat_min, lat_max, delta):\n",
    "\n",
    "    masked_image = image.unmask(0, False)\n",
    "\n",
    "    x_nums = np.linspace(lng_min, lng_max, int((lng_max - lng_min) / delta))\n",
    "    y_nums = np.linspace(lat_min, lat_max, int((lat_max - lat_min) / delta))\n",
    "    \n",
    "    array = []\n",
    "\n",
    "    for x in x_nums:\n",
    "        print(x)\n",
    "        y_array = []\n",
    "        for y in y_nums:\n",
    "            geometry = ee.Geometry.Polygon([[[x,y],[x, y + delta],\n",
    "                            [ x + delta, y + delta], [ x + delta, y],\n",
    "                            [ x, y]]])\n",
    "            values = masked_image.sampleRectangle(region=geometry).getInfo().get('properties')\n",
    "            for index in range(len(band_names)):\n",
    "                band_name = band_names[index]\n",
    "                arr = values.get(band_name)\n",
    "                np_arr = np.array(arr)\n",
    "                if len(y_array) <= index:                \n",
    "                    y_array.append(np_arr)\n",
    "                else:\n",
    "                    if y_array[index].shape != np_arr.shape: \n",
    "                        np_arr.resize((np_arr.shape[0], y_array[index].shape[1]))\n",
    "                    y_array[index] = np.vstack((y_array[index], np_arr))\n",
    "\n",
    "        for index in range(len(band_names)):\n",
    "            if len(array) <= index:                \n",
    "                array.append(y_array[index])\n",
    "            else:\n",
    "                if array[index].shape != y_array[index].shape: \n",
    "                    y_array[index].resize((array[index].shape[0], y_array[index].shape[1]))\n",
    "                array[index] = np.hstack((array[index], y_array[index]))\n",
    "                \n",
    "    np_array = np.stack(array, axis=2)\n",
    "    np_array = np.flip(np_array, axis=0)\n",
    "    return np_array"
   ]
  },
  {
   "cell_type": "code",
   "execution_count": null,
   "metadata": {
    "id": "5KByKK_vdGbY",
    "scrolled": true
   },
   "outputs": [],
   "source": [
    "lng_min = -76.60002136230469\n",
    "lng_max = -76.05133056640625\n",
    "lat_min = 39.04213333129883\n",
    "lat_max = 39.625762939453125\n",
    "\n",
    "delta = 0.05\n",
    "\n",
    "band_names = ['Rrs_443', 'Rrs_492', 'Rrs_560', 'Rrs_665', 'Rrs_704', 'Rrs_740', 'Rrs_783']\n",
    "\n",
    "np_array = convert_image(image, band_names, lng_min, lng_max, lat_min, lat_max, delta)\n",
    "np_array.shape"
   ]
  },
  {
   "cell_type": "code",
   "execution_count": null,
   "metadata": {
    "id": "PBVAMZWNdfG0"
   },
   "outputs": [],
   "source": [
    "bands = [443, 492, 560, 665, 704, 740, 783] \n",
    "tss = image_estimates(np_array, function=SOLID, wavelengths=bands, sensor=sensor, **MDN_kwargs)"
   ]
  },
  {
   "cell_type": "code",
   "execution_count": 10,
   "metadata": {
    "colab": {
     "base_uri": "https://localhost:8080/",
     "height": 258
    },
    "id": "2VB1qGtbdxby",
    "outputId": "b42f89b3-5000-4b5c-b9b9-f40c5781db6c"
   },
   "outputs": [
    {
     "data": {
      "image/png": "[encoded data removed]",
      "text/plain": [
       "<Figure size 432x288 with 2 Axes>"
      ]
     },
     "metadata": {
      "needs_background": "light"
     },
     "output_type": "display_data"
    }
   ],
   "source": [
    "plt.imshow(np.squeeze(tss), vmin=0, vmax=100)\n",
    "plt.colorbar()\n",
    "plt.title('2018-12-27 : MSI @ 60m')\n",
    "plt.gca().tick_params(labelcolor='none', bottom=False, left=False)\n",
    "plt.show()"
   ]
  },
  {
   "cell_type": "markdown",
   "metadata": {
    "id": "WsnQXxITeV-N"
   },
   "source": [
    "# Run SOLID on a sentinel image from EE\n",
    "Let's try the calculation on an sentinel image from EE, the bands are B1 to B7. We choos an image which covers the selected geometry. "
   ]
  },
  {
   "cell_type": "code",
   "execution_count": null,
   "metadata": {
    "id": "-37XYylXek3M"
   },
   "outputs": [],
   "source": [
    "geometry = ee.Geometry.Polygon([[[lng_min,lat_min],[lng_min,lat_max],\n",
    "                                [lng_max, lat_max], [lng_max, lat_min],\n",
    "                                [lng_min, lat_min]]])\n",
    "band_names = ['B1', 'B2', 'B3', 'B4', 'B5', 'B6', 'B7'] \n",
    "\n",
    "area=geometry\n",
    "#Time window\n",
    "startyear = 2020\n",
    "endyear = 2020;\n",
    "startmonth = 1\n",
    "endmonth = 12\n",
    "\n",
    "imageCollection = ee.ImageCollection(\"COPERNICUS/S2_SR\")\\\n",
    "  .filterBounds(area)\\\n",
    "  .filter(ee.Filter.lt('HIGH_PROBA_CLOUDS_PERCENTAGE',50))\\\n",
    "  .filter(ee.Filter.calendarRange(startyear,endyear,'year'))\\\n",
    "  .filter(ee.Filter.calendarRange(startmonth,endmonth,'month'))\\\n",
    "  .sort('system:time_start')\\\n",
    "  .set('SENSOR_ID', 'OLI_TIRS')\n",
    "\n",
    "#old s2 cloudmask and water, there is a different new one, but keeping it simple\n",
    "def cloudmask(img):\n",
    "                  mask = img.select(['SCL']).eq(6)\n",
    "                  notcloud=img.select(['QA60']).eq(0)\n",
    "                  img=img.updateMask(mask)\n",
    "                  img=img.updateMask(notcloud)\n",
    "                  return img\n",
    "\n",
    "imageCollection = imageCollection.map(cloudmask)\n",
    "#sentinel_image = ee.Image(imageCollection.mean())\n",
    "sentinel_image = ee.Image(imageCollection.sort('HIGH_PROBA_CLOUDS_PERCENTAGE').first());\n",
    "vis = {\"bands\":[\"B4\",\"B3\",\"B2\"],\"min\":0,\"max\": 800,\"gamma\":1}\n",
    "\n",
    "map_id = imageCollection.mean().getMapId(vis)\n",
    "map = folium.Map(location=[39.279839, -76.31669])\n",
    "folium.TileLayer(\n",
    "  tiles=map_id['tile_fetcher'].url_format,\n",
    "  attr='Map Data &copy; <a href=\"https://earthengine.google.com/\">Google Earth Engine</a>',\n",
    "  overlay=True,\n",
    "  name='Sentinel',\n",
    ").add_to(map)\n",
    "folium.GeoJson(\n",
    "    data = geometry.getInfo(),\n",
    "    name = 'Geometry',\n",
    "    overlay = True,\n",
    "    control = True\n",
    ").add_to(map)\n",
    "\n",
    "display(map)"
   ]
  },
  {
   "cell_type": "code",
   "execution_count": 56,
   "metadata": {},
   "outputs": [],
   "source": [
    "# Reduce all bands to the same resolution\n",
    "sentinel_b1 = sentinel_image.select('B1')\n",
    "proj_b1 = sentinel_b1.projection()\n",
    "for band in band_names:\n",
    "    reduced_image = sentinel_image.select(band).reduceResolution(reducer=ee.Reducer.mean(),maxPixels=1024).reproject(crs=proj_b1)    \n",
    "    sentinel_image = ee.Image(sentinel_image).addBands(reduced_image, ee.List([band]), True)"
   ]
  },
  {
   "cell_type": "code",
   "execution_count": null,
   "metadata": {
    "id": "u1LrZUpJgLCi"
   },
   "outputs": [],
   "source": [
    "np_array = convert_image(sentinel_image, band_names, lng_min, lng_max, lat_min, lat_max, delta)\n",
    "np_array.shape"
   ]
  },
  {
   "cell_type": "code",
   "execution_count": null,
   "metadata": {
    "id": "7th6YWaDgPtl"
   },
   "outputs": [],
   "source": [
    "# Run the calculation\n",
    "tss = image_estimates(np_array, function=SOLID, wavelengths=bands, sensor=sensor, **MDN_kwargs)"
   ]
  }
 ],
 "metadata": {
  "colab": {
   "collapsed_sections": [
    "mzS3QORxTiF-"
   ],
   "name": "Solid.ipynb",
   "provenance": []
  },
  "kernelspec": {
   "display_name": "Python 3 (ipykernel)",
   "language": "python",
   "name": "python3"
  },
  "language_info": {
   "codemirror_mode": {
    "name": "ipython",
    "version": 3
   },
   "file_extension": ".py",
   "mimetype": "text/x-python",
   "name": "python",
   "nbconvert_exporter": "python",
   "pygments_lexer": "ipython3",
   "version": "3.9.7"
  }
 },
 "nbformat": 4,
 "nbformat_minor": 1
}
