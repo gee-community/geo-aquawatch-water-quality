{
 "cells": [
  {
   "cell_type": "code",
   "execution_count": 3,
   "id": "aad50620",
   "metadata": {},
   "outputs": [
    {
     "name": "stdout",
     "output_type": "stream",
     "text": [
      "2.5.0\n"
     ]
    }
   ],
   "source": [
    "from tensorflow import keras\n",
    "import tensorflow as tf\n",
    "print(tf.__version__)\n",
    "from pprint import pprint\n",
    "import tensorflow_datasets as tfds"
   ]
  },
  {
   "cell_type": "code",
   "execution_count": 4,
   "id": "132c46f0",
   "metadata": {},
   "outputs": [],
   "source": [
    "\tdef loss(y):\n",
    "\t\tprior, mu, scale = _parse_outputs(output) \n",
    "\t\tdistribution = 'MultivariateNormalTriL'\n",
    "\n",
    "\t\tdist  = getattr(tfp.distributions, distribution)(mu, scale)\n",
    "\t\tprob  = tfp.distributions.Categorical(probs=prior)\n",
    "\t\tmix   = tfp.distributions.MixtureSameFamily(prob, dist)\n",
    "\n",
    "\t\tdef impute(mix, y, N):\n",
    "\t\t\treturn tf.reduce_mean([\n",
    "\t\t\t\tmix.log_prob( tf.where(tf.math.is_nan(y), mix.sample(), y) )\n",
    "\t\t\tfor _ in range(N)], 0)\n",
    "\t\tlikelihood = mix.log_prob(y)\n",
    "\t\treturn tf.reduce_mean(-likelihood) + tf.add_n([0.])\n",
    "#\t\treturn tf.reduce_mean(-likelihood) + tf.add_n([0.] + self.model.losses)\n",
    "\n",
    "\tdef _parse_outputs(self, output):\n",
    "\t\tn_mix = 5\n",
    "\t\tn_targets = 5\n",
    "\t\tprior, mu, scale = tf.split(output, [n_mix, n_mix * self.n_targets, -1], axis=1)\n",
    "\t\tprior = tf.reshape(prior, shape=[-1, n_mix])\n",
    "\t\tmu    = tf.reshape(mu,    shape=[-1, n_mix, n_targets])\n",
    "\t\tscale = tf.reshape(scale, shape=[-1, n_mix, n_targets, n_targets])\n",
    "\t\treturn prior, mu, scale\n"
   ]
  },
  {
   "cell_type": "code",
   "execution_count": 5,
   "id": "e3556a75",
   "metadata": {},
   "outputs": [],
   "source": [
    "class MixtureLayer(tf.keras.layers.Layer):\n",
    "\n",
    "\tdef __init__(self, n_mix, n_targets, epsilon, **layer_kwargs):\n",
    "\t\tsuper(MixtureLayer, self).__init__()\n",
    "\t\tlayer_kwargs.pop('activation', None)\n",
    "\n",
    "\t\tself.n_mix     = n_mix \n",
    "\t\tself.n_targets = n_targets \n",
    "\t\tself.epsilon   = tf.constant(epsilon)\n",
    "\t\tself._layer    = tf.keras.layers.Dense(self.n_outputs, **layer_kwargs)\n",
    "\n",
    "\n",
    "\t@property \n",
    "\tdef layer_sizes(self):\n",
    "\t\t''' Sizes of the prior, mu, and (lower triangle) scale matrix outputs '''\n",
    "\t\tsizes = [1, self.n_targets, (self.n_targets * (self.n_targets + 1)) // 2]\n",
    "\t\treturn self.n_mix * np.array(sizes)\n",
    "\n",
    "\n",
    "\t@property \n",
    "\tdef n_outputs(self):\n",
    "\t\t''' Total output size of the layer object '''\n",
    "\t\treturn sum(self.layer_sizes)\n",
    "\n",
    "\n",
    "\t# @tf.function(experimental_compile=True)\n",
    "\tdef call(self, inputs):\n",
    "\t\tprior, mu, scale = tf.split(self._layer(inputs), self.layer_sizes, axis=1)\n",
    "\n",
    "\t\tprior = tf.nn.softmax(prior, axis=-1) + tf.constant(1e-9)\n",
    "\t\tmu    = tf.stack(tf.split(mu, self.n_mix, 1), 1) \n",
    "\t\tscale = tf.stack(tf.split(scale, self.n_mix, 1), 1) \n",
    "\t\tscale = tfp.math.fill_triangular(scale, upper=False)\n",
    "\t\tnorm  = tf.linalg.diag(tf.ones((1, 1, self.n_targets)))\n",
    "\t\tsigma = tf.einsum('abij,abjk->abik', tf.transpose(scale, perm=[0,1,3,2]), scale)\n",
    "\t\tsigma+= self.epsilon * norm\n",
    "\t\tscale = tf.linalg.cholesky(sigma)\n",
    "\n",
    "\t\treturn tf.keras.layers.concatenate([\n",
    "\t\t\ttf.reshape(prior, shape=[-1, self.n_mix]),\n",
    "\t\t\ttf.reshape(mu,    shape=[-1, self.n_mix * self.n_targets]),\n",
    "\t\t\ttf.reshape(scale, shape=[-1, self.n_mix * self.n_targets ** 2]),\n",
    "\t\t])\n"
   ]
  },
  {
   "cell_type": "code",
   "execution_count": 6,
   "id": "33f6516a",
   "metadata": {},
   "outputs": [],
   "source": [
    "model = keras.models.load_model('./solid_model', custom_objects={ 'loss': loss, 'MixtureLayer': MixtureLayer })"
   ]
  },
  {
   "cell_type": "code",
   "execution_count": 7,
   "id": "435be09b",
   "metadata": {},
   "outputs": [
    {
     "data": {
      "text/html": [
       "<p>To authorize access needed by Earth Engine, open the following\n",
       "        URL in a web browser and follow the instructions:</p>\n",
       "        <p><a href=https://accounts.google.com/o/oauth2/auth?client_id=517222506229-vsmmajv00ul0bs7p89v5m89qs8eb9359.apps.googleusercontent.com&scope=https%3A%2F%2Fwww.googleapis.com%2Fauth%2Fearthengine+https%3A%2F%2Fwww.googleapis.com%2Fauth%2Fdevstorage.full_control&redirect_uri=urn%3Aietf%3Awg%3Aoauth%3A2.0%3Aoob&response_type=code&code_challenge=-lRt62m7RxYUi9oltgKCTXsnoOzReo4d-IDqcOE8dAk&code_challenge_method=S256>https://accounts.google.com/o/oauth2/auth?client_id=517222506229-vsmmajv00ul0bs7p89v5m89qs8eb9359.apps.googleusercontent.com&scope=https%3A%2F%2Fwww.googleapis.com%2Fauth%2Fearthengine+https%3A%2F%2Fwww.googleapis.com%2Fauth%2Fdevstorage.full_control&redirect_uri=urn%3Aietf%3Awg%3Aoauth%3A2.0%3Aoob&response_type=code&code_challenge=-lRt62m7RxYUi9oltgKCTXsnoOzReo4d-IDqcOE8dAk&code_challenge_method=S256</a></p>\n",
       "        <p>The authorization workflow will generate a code, which you\n",
       "        should paste in the box below</p>\n",
       "        "
      ],
      "text/plain": [
       "<IPython.core.display.HTML object>"
      ]
     },
     "metadata": {},
     "output_type": "display_data"
    },
    {
     "name": "stdout",
     "output_type": "stream",
     "text": [
      "Enter verification code: 4/1AX4XfWjYXdnzybfylaH1ziXNNZZwAsA9HKI-0BEE_81hnlzKquhmOKwlmPM\n",
      "\n",
      "Successfully saved authorization token.\n"
     ]
    }
   ],
   "source": [
    "import ee\n",
    "ee.Authenticate()\n",
    "ee.Initialize()"
   ]
  },
  {
   "cell_type": "code",
   "execution_count": 8,
   "id": "97739093",
   "metadata": {},
   "outputs": [],
   "source": [
    "BANDS = ['Rrs_443', 'Rrs_492', 'Rrs_560', 'Rrs_665', 'Rrs_704']"
   ]
  },
  {
   "cell_type": "code",
   "execution_count": 9,
   "id": "830ac5e6",
   "metadata": {
    "scrolled": true
   },
   "outputs": [
    {
     "data": {
      "text/html": [
       "<div style=\"width:100%;\"><div style=\"position:relative;width:100%;height:0;padding-bottom:60%;\"><span style=\"color:#565656\">Make this Notebook Trusted to load map: File -> Trust Notebook</span><iframe src=\"about:blank\" style=\"position:absolute;width:100%;height:100%;left:0;top:0;border:none !important;\" data-html=%3C%21DOCTYPE%20html%3E%0A%3Chead%3E%20%20%20%20%0A%20%20%20%20%3Cmeta%20http-equiv%3D%22content-type%22%20content%3D%22text/html%3B%20charset%3DUTF-8%22%20/%3E%0A%20%20%20%20%0A%20%20%20%20%20%20%20%20%3Cscript%3E%0A%20%20%20%20%20%20%20%20%20%20%20%20L_NO_TOUCH%20%3D%20false%3B%0A%20%20%20%20%20%20%20%20%20%20%20%20L_DISABLE_3D%20%3D%20false%3B%0A%20%20%20%20%20%20%20%20%3C/script%3E%0A%20%20%20%20%0A%20%20%20%20%3Cstyle%3Ehtml%2C%20body%20%7Bwidth%3A%20100%25%3Bheight%3A%20100%25%3Bmargin%3A%200%3Bpadding%3A%200%3B%7D%3C/style%3E%0A%20%20%20%20%3Cstyle%3E%23map%20%7Bposition%3Aabsolute%3Btop%3A0%3Bbottom%3A0%3Bright%3A0%3Bleft%3A0%3B%7D%3C/style%3E%0A%20%20%20%20%3Cscript%20src%3D%22https%3A//cdn.jsdelivr.net/npm/leaflet%401.6.0/dist/leaflet.js%22%3E%3C/script%3E%0A%20%20%20%20%3Cscript%20src%3D%22https%3A//code.jquery.com/jquery-1.12.4.min.js%22%3E%3C/script%3E%0A%20%20%20%20%3Cscript%20src%3D%22https%3A//maxcdn.bootstrapcdn.com/bootstrap/3.2.0/js/bootstrap.min.js%22%3E%3C/script%3E%0A%20%20%20%20%3Cscript%20src%3D%22https%3A//cdnjs.cloudflare.com/ajax/libs/Leaflet.awesome-markers/2.0.2/leaflet.awesome-markers.js%22%3E%3C/script%3E%0A%20%20%20%20%3Clink%20rel%3D%22stylesheet%22%20href%3D%22https%3A//cdn.jsdelivr.net/npm/leaflet%401.6.0/dist/leaflet.css%22/%3E%0A%20%20%20%20%3Clink%20rel%3D%22stylesheet%22%20href%3D%22https%3A//maxcdn.bootstrapcdn.com/bootstrap/3.2.0/css/bootstrap.min.css%22/%3E%0A%20%20%20%20%3Clink%20rel%3D%22stylesheet%22%20href%3D%22https%3A//maxcdn.bootstrapcdn.com/bootstrap/3.2.0/css/bootstrap-theme.min.css%22/%3E%0A%20%20%20%20%3Clink%20rel%3D%22stylesheet%22%20href%3D%22https%3A//maxcdn.bootstrapcdn.com/font-awesome/4.6.3/css/font-awesome.min.css%22/%3E%0A%20%20%20%20%3Clink%20rel%3D%22stylesheet%22%20href%3D%22https%3A//cdnjs.cloudflare.com/ajax/libs/Leaflet.awesome-markers/2.0.2/leaflet.awesome-markers.css%22/%3E%0A%20%20%20%20%3Clink%20rel%3D%22stylesheet%22%20href%3D%22https%3A//cdn.jsdelivr.net/gh/python-visualization/folium/folium/templates/leaflet.awesome.rotate.min.css%22/%3E%0A%20%20%20%20%0A%20%20%20%20%20%20%20%20%20%20%20%20%3Cmeta%20name%3D%22viewport%22%20content%3D%22width%3Ddevice-width%2C%0A%20%20%20%20%20%20%20%20%20%20%20%20%20%20%20%20initial-scale%3D1.0%2C%20maximum-scale%3D1.0%2C%20user-scalable%3Dno%22%20/%3E%0A%20%20%20%20%20%20%20%20%20%20%20%20%3Cstyle%3E%0A%20%20%20%20%20%20%20%20%20%20%20%20%20%20%20%20%23map_081a469f99de466194d8e6839a3f11aa%20%7B%0A%20%20%20%20%20%20%20%20%20%20%20%20%20%20%20%20%20%20%20%20position%3A%20relative%3B%0A%20%20%20%20%20%20%20%20%20%20%20%20%20%20%20%20%20%20%20%20width%3A%20100.0%25%3B%0A%20%20%20%20%20%20%20%20%20%20%20%20%20%20%20%20%20%20%20%20height%3A%20100.0%25%3B%0A%20%20%20%20%20%20%20%20%20%20%20%20%20%20%20%20%20%20%20%20left%3A%200.0%25%3B%0A%20%20%20%20%20%20%20%20%20%20%20%20%20%20%20%20%20%20%20%20top%3A%200.0%25%3B%0A%20%20%20%20%20%20%20%20%20%20%20%20%20%20%20%20%7D%0A%20%20%20%20%20%20%20%20%20%20%20%20%3C/style%3E%0A%20%20%20%20%20%20%20%20%0A%3C/head%3E%0A%3Cbody%3E%20%20%20%20%0A%20%20%20%20%0A%20%20%20%20%20%20%20%20%20%20%20%20%3Cdiv%20class%3D%22folium-map%22%20id%3D%22map_081a469f99de466194d8e6839a3f11aa%22%20%3E%3C/div%3E%0A%20%20%20%20%20%20%20%20%0A%3C/body%3E%0A%3Cscript%3E%20%20%20%20%0A%20%20%20%20%0A%20%20%20%20%20%20%20%20%20%20%20%20var%20map_081a469f99de466194d8e6839a3f11aa%20%3D%20L.map%28%0A%20%20%20%20%20%20%20%20%20%20%20%20%20%20%20%20%22map_081a469f99de466194d8e6839a3f11aa%22%2C%0A%20%20%20%20%20%20%20%20%20%20%20%20%20%20%20%20%7B%0A%20%20%20%20%20%20%20%20%20%20%20%20%20%20%20%20%20%20%20%20center%3A%20%5B39.279839%2C%20-76.31669%5D%2C%0A%20%20%20%20%20%20%20%20%20%20%20%20%20%20%20%20%20%20%20%20crs%3A%20L.CRS.EPSG3857%2C%0A%20%20%20%20%20%20%20%20%20%20%20%20%20%20%20%20%20%20%20%20zoom%3A%2010%2C%0A%20%20%20%20%20%20%20%20%20%20%20%20%20%20%20%20%20%20%20%20zoomControl%3A%20true%2C%0A%20%20%20%20%20%20%20%20%20%20%20%20%20%20%20%20%20%20%20%20preferCanvas%3A%20false%2C%0A%20%20%20%20%20%20%20%20%20%20%20%20%20%20%20%20%7D%0A%20%20%20%20%20%20%20%20%20%20%20%20%29%3B%0A%0A%20%20%20%20%20%20%20%20%20%20%20%20%0A%0A%20%20%20%20%20%20%20%20%0A%20%20%20%20%0A%20%20%20%20%20%20%20%20%20%20%20%20var%20tile_layer_c07a470c752c425d89503c8c48286575%20%3D%20L.tileLayer%28%0A%20%20%20%20%20%20%20%20%20%20%20%20%20%20%20%20%22https%3A//%7Bs%7D.tile.openstreetmap.org/%7Bz%7D/%7Bx%7D/%7By%7D.png%22%2C%0A%20%20%20%20%20%20%20%20%20%20%20%20%20%20%20%20%7B%22attribution%22%3A%20%22Data%20by%20%5Cu0026copy%3B%20%5Cu003ca%20href%3D%5C%22http%3A//openstreetmap.org%5C%22%5Cu003eOpenStreetMap%5Cu003c/a%5Cu003e%2C%20under%20%5Cu003ca%20href%3D%5C%22http%3A//www.openstreetmap.org/copyright%5C%22%5Cu003eODbL%5Cu003c/a%5Cu003e.%22%2C%20%22detectRetina%22%3A%20false%2C%20%22maxNativeZoom%22%3A%2018%2C%20%22maxZoom%22%3A%2018%2C%20%22minZoom%22%3A%200%2C%20%22noWrap%22%3A%20false%2C%20%22opacity%22%3A%201%2C%20%22subdomains%22%3A%20%22abc%22%2C%20%22tms%22%3A%20false%7D%0A%20%20%20%20%20%20%20%20%20%20%20%20%29.addTo%28map_081a469f99de466194d8e6839a3f11aa%29%3B%0A%20%20%20%20%20%20%20%20%0A%20%20%20%20%0A%20%20%20%20%20%20%20%20%20%20%20%20var%20tile_layer_d425a9d0deb04117901c8bbf85ad88c8%20%3D%20L.tileLayer%28%0A%20%20%20%20%20%20%20%20%20%20%20%20%20%20%20%20%22https%3A//earthengine.googleapis.com/v1alpha/projects/earthengine-legacy/maps/3f2598b6469f58ed218a80ba14e30071-5adb92608e8881e87883e612cfca8505/tiles/%7Bz%7D/%7Bx%7D/%7By%7D%22%2C%0A%20%20%20%20%20%20%20%20%20%20%20%20%20%20%20%20%7B%22attribution%22%3A%20%22Map%20Data%20%5Cu0026copy%3B%20%5Cu003ca%20href%3D%5C%22https%3A//earthengine.google.com/%5C%22%5Cu003eGoogle%20Earth%20Engine%5Cu003c/a%5Cu003e%22%2C%20%22detectRetina%22%3A%20false%2C%20%22maxNativeZoom%22%3A%2018%2C%20%22maxZoom%22%3A%2018%2C%20%22minZoom%22%3A%200%2C%20%22noWrap%22%3A%20false%2C%20%22opacity%22%3A%201%2C%20%22subdomains%22%3A%20%22abc%22%2C%20%22tms%22%3A%20false%7D%0A%20%20%20%20%20%20%20%20%20%20%20%20%29.addTo%28map_081a469f99de466194d8e6839a3f11aa%29%3B%0A%20%20%20%20%20%20%20%20%0A%3C/script%3E onload=\"this.contentDocument.open();this.contentDocument.write(    decodeURIComponent(this.getAttribute('data-html')));this.contentDocument.close();\" allowfullscreen webkitallowfullscreen mozallowfullscreen></iframe></div></div>"
      ],
      "text/plain": [
       "<folium.folium.Map at 0x7fd07a7f53d0>"
      ]
     },
     "metadata": {},
     "output_type": "display_data"
    }
   ],
   "source": [
    "import folium\n",
    "ASSET_ID = 'users/cboros/solid'\n",
    "\n",
    "image = ee.Image(ASSET_ID)\n",
    "vis = {\n",
    " \"bands\": [\"Rrs_740\", \"Rrs_560\", \"Rrs_443\" ], \"min\": 0, \"max\": 0.03}\n",
    "map_id = image.getMapId(vis)\n",
    "map = folium.Map(location=[39.279839, -76.31669])\n",
    "folium.TileLayer(\n",
    "  tiles=map_id['tile_fetcher'].url_format,\n",
    "  attr='Map Data &copy; <a href=\"https://earthengine.google.com/\">Google Earth Engine</a>',\n",
    "  overlay=True,\n",
    "  name='Prediction for TSS',\n",
    ").add_to(map)\n",
    "display(map)"
   ]
  },
  {
   "cell_type": "code",
   "execution_count": 20,
   "id": "781d85f7",
   "metadata": {},
   "outputs": [
    {
     "name": "stdout",
     "output_type": "stream",
     "text": [
      "67.90737046122514\n"
     ]
    }
   ],
   "source": [
    "lng_min = -76.60002136230469\n",
    "lng_max = -76.05133056640625\n",
    "lat_min = 39.04213333129883\n",
    "lat_max = 39.625762939453125\n",
    "\n",
    "scale = image.select('Rrs_443').projection().nominalScale();\n",
    "print(scale.getInfo())\n",
    "scale = 80\n",
    "\n",
    "geometry = ee.Geometry.Polygon([[[lng_min,lat_min],[lng_min,lat_max],\n",
    "                                [lng_max, lat_max], [lng_max, lat_min],\n",
    "                                [lng_min, lat_min]]])\n",
    "\n",
    "\n",
    "minValues = image.reduceRegion(reducer=ee.Reducer.min(),\n",
    "                                 geometry=geometry, scale=scale\n",
    "                                 )\n",
    "\n",
    "maxValues = image.reduceRegion(reducer=ee.Reducer.max(),\n",
    "                                 geometry=geometry, scale=scale\n",
    "                                 )\n",
    "\n",
    "percentiles25 = image.reduceRegion(reducer=ee.Reducer.percentile(ee.List([ee.Number(25.0)])),\n",
    "                                 geometry=geometry, scale=scale\n",
    "                                 )\n",
    "\n",
    "percentiles75 = image.reduceRegion(reducer=ee.Reducer.percentile(ee.List([ee.Number(75.0)])),\n",
    "                                 geometry=geometry, scale=scale\n",
    "                                 )\n",
    "\n",
    "medians = image.reduceRegion(reducer=ee.Reducer.median(),\n",
    "                                 geometry=geometry, scale=scale \n",
    "                                 )\n",
    "\n",
    "medianImages = medians.toImage();\n",
    "percentileImages25 = percentiles25.toImage();\n",
    "percentileImages75 = percentiles75.toImage();\n",
    "\n",
    "scaleImages = percentileImages75.subtract(percentileImages25);\n",
    "\n",
    "# transform input image\n",
    "transformedImages = image.subtract(medianImages).divide(scaleImages);\n"
   ]
  },
  {
   "cell_type": "code",
   "execution_count": 21,
   "id": "36ea92be",
   "metadata": {},
   "outputs": [
    {
     "data": {
      "text/html": [
       "<div style=\"width:100%;\"><div style=\"position:relative;width:100%;height:0;padding-bottom:60%;\"><span style=\"color:#565656\">Make this Notebook Trusted to load map: File -> Trust Notebook</span><iframe src=\"about:blank\" style=\"position:absolute;width:100%;height:100%;left:0;top:0;border:none !important;\" data-html=%3C%21DOCTYPE%20html%3E%0A%3Chead%3E%20%20%20%20%0A%20%20%20%20%3Cmeta%20http-equiv%3D%22content-type%22%20content%3D%22text/html%3B%20charset%3DUTF-8%22%20/%3E%0A%20%20%20%20%0A%20%20%20%20%20%20%20%20%3Cscript%3E%0A%20%20%20%20%20%20%20%20%20%20%20%20L_NO_TOUCH%20%3D%20false%3B%0A%20%20%20%20%20%20%20%20%20%20%20%20L_DISABLE_3D%20%3D%20false%3B%0A%20%20%20%20%20%20%20%20%3C/script%3E%0A%20%20%20%20%0A%20%20%20%20%3Cstyle%3Ehtml%2C%20body%20%7Bwidth%3A%20100%25%3Bheight%3A%20100%25%3Bmargin%3A%200%3Bpadding%3A%200%3B%7D%3C/style%3E%0A%20%20%20%20%3Cstyle%3E%23map%20%7Bposition%3Aabsolute%3Btop%3A0%3Bbottom%3A0%3Bright%3A0%3Bleft%3A0%3B%7D%3C/style%3E%0A%20%20%20%20%3Cscript%20src%3D%22https%3A//cdn.jsdelivr.net/npm/leaflet%401.6.0/dist/leaflet.js%22%3E%3C/script%3E%0A%20%20%20%20%3Cscript%20src%3D%22https%3A//code.jquery.com/jquery-1.12.4.min.js%22%3E%3C/script%3E%0A%20%20%20%20%3Cscript%20src%3D%22https%3A//maxcdn.bootstrapcdn.com/bootstrap/3.2.0/js/bootstrap.min.js%22%3E%3C/script%3E%0A%20%20%20%20%3Cscript%20src%3D%22https%3A//cdnjs.cloudflare.com/ajax/libs/Leaflet.awesome-markers/2.0.2/leaflet.awesome-markers.js%22%3E%3C/script%3E%0A%20%20%20%20%3Clink%20rel%3D%22stylesheet%22%20href%3D%22https%3A//cdn.jsdelivr.net/npm/leaflet%401.6.0/dist/leaflet.css%22/%3E%0A%20%20%20%20%3Clink%20rel%3D%22stylesheet%22%20href%3D%22https%3A//maxcdn.bootstrapcdn.com/bootstrap/3.2.0/css/bootstrap.min.css%22/%3E%0A%20%20%20%20%3Clink%20rel%3D%22stylesheet%22%20href%3D%22https%3A//maxcdn.bootstrapcdn.com/bootstrap/3.2.0/css/bootstrap-theme.min.css%22/%3E%0A%20%20%20%20%3Clink%20rel%3D%22stylesheet%22%20href%3D%22https%3A//maxcdn.bootstrapcdn.com/font-awesome/4.6.3/css/font-awesome.min.css%22/%3E%0A%20%20%20%20%3Clink%20rel%3D%22stylesheet%22%20href%3D%22https%3A//cdnjs.cloudflare.com/ajax/libs/Leaflet.awesome-markers/2.0.2/leaflet.awesome-markers.css%22/%3E%0A%20%20%20%20%3Clink%20rel%3D%22stylesheet%22%20href%3D%22https%3A//cdn.jsdelivr.net/gh/python-visualization/folium/folium/templates/leaflet.awesome.rotate.min.css%22/%3E%0A%20%20%20%20%0A%20%20%20%20%20%20%20%20%20%20%20%20%3Cmeta%20name%3D%22viewport%22%20content%3D%22width%3Ddevice-width%2C%0A%20%20%20%20%20%20%20%20%20%20%20%20%20%20%20%20initial-scale%3D1.0%2C%20maximum-scale%3D1.0%2C%20user-scalable%3Dno%22%20/%3E%0A%20%20%20%20%20%20%20%20%20%20%20%20%3Cstyle%3E%0A%20%20%20%20%20%20%20%20%20%20%20%20%20%20%20%20%23map_3e4dc531d430408c872d509ece44385f%20%7B%0A%20%20%20%20%20%20%20%20%20%20%20%20%20%20%20%20%20%20%20%20position%3A%20relative%3B%0A%20%20%20%20%20%20%20%20%20%20%20%20%20%20%20%20%20%20%20%20width%3A%20100.0%25%3B%0A%20%20%20%20%20%20%20%20%20%20%20%20%20%20%20%20%20%20%20%20height%3A%20100.0%25%3B%0A%20%20%20%20%20%20%20%20%20%20%20%20%20%20%20%20%20%20%20%20left%3A%200.0%25%3B%0A%20%20%20%20%20%20%20%20%20%20%20%20%20%20%20%20%20%20%20%20top%3A%200.0%25%3B%0A%20%20%20%20%20%20%20%20%20%20%20%20%20%20%20%20%7D%0A%20%20%20%20%20%20%20%20%20%20%20%20%3C/style%3E%0A%20%20%20%20%20%20%20%20%0A%3C/head%3E%0A%3Cbody%3E%20%20%20%20%0A%20%20%20%20%0A%20%20%20%20%20%20%20%20%20%20%20%20%3Cdiv%20class%3D%22folium-map%22%20id%3D%22map_3e4dc531d430408c872d509ece44385f%22%20%3E%3C/div%3E%0A%20%20%20%20%20%20%20%20%0A%3C/body%3E%0A%3Cscript%3E%20%20%20%20%0A%20%20%20%20%0A%20%20%20%20%20%20%20%20%20%20%20%20var%20map_3e4dc531d430408c872d509ece44385f%20%3D%20L.map%28%0A%20%20%20%20%20%20%20%20%20%20%20%20%20%20%20%20%22map_3e4dc531d430408c872d509ece44385f%22%2C%0A%20%20%20%20%20%20%20%20%20%20%20%20%20%20%20%20%7B%0A%20%20%20%20%20%20%20%20%20%20%20%20%20%20%20%20%20%20%20%20center%3A%20%5B39.279839%2C%20-76.31669%5D%2C%0A%20%20%20%20%20%20%20%20%20%20%20%20%20%20%20%20%20%20%20%20crs%3A%20L.CRS.EPSG3857%2C%0A%20%20%20%20%20%20%20%20%20%20%20%20%20%20%20%20%20%20%20%20zoom%3A%2010%2C%0A%20%20%20%20%20%20%20%20%20%20%20%20%20%20%20%20%20%20%20%20zoomControl%3A%20true%2C%0A%20%20%20%20%20%20%20%20%20%20%20%20%20%20%20%20%20%20%20%20preferCanvas%3A%20false%2C%0A%20%20%20%20%20%20%20%20%20%20%20%20%20%20%20%20%7D%0A%20%20%20%20%20%20%20%20%20%20%20%20%29%3B%0A%0A%20%20%20%20%20%20%20%20%20%20%20%20%0A%0A%20%20%20%20%20%20%20%20%0A%20%20%20%20%0A%20%20%20%20%20%20%20%20%20%20%20%20var%20tile_layer_b67cf2572afa4685b4617aa1501fe3bb%20%3D%20L.tileLayer%28%0A%20%20%20%20%20%20%20%20%20%20%20%20%20%20%20%20%22https%3A//%7Bs%7D.tile.openstreetmap.org/%7Bz%7D/%7Bx%7D/%7By%7D.png%22%2C%0A%20%20%20%20%20%20%20%20%20%20%20%20%20%20%20%20%7B%22attribution%22%3A%20%22Data%20by%20%5Cu0026copy%3B%20%5Cu003ca%20href%3D%5C%22http%3A//openstreetmap.org%5C%22%5Cu003eOpenStreetMap%5Cu003c/a%5Cu003e%2C%20under%20%5Cu003ca%20href%3D%5C%22http%3A//www.openstreetmap.org/copyright%5C%22%5Cu003eODbL%5Cu003c/a%5Cu003e.%22%2C%20%22detectRetina%22%3A%20false%2C%20%22maxNativeZoom%22%3A%2018%2C%20%22maxZoom%22%3A%2018%2C%20%22minZoom%22%3A%200%2C%20%22noWrap%22%3A%20false%2C%20%22opacity%22%3A%201%2C%20%22subdomains%22%3A%20%22abc%22%2C%20%22tms%22%3A%20false%7D%0A%20%20%20%20%20%20%20%20%20%20%20%20%29.addTo%28map_3e4dc531d430408c872d509ece44385f%29%3B%0A%20%20%20%20%20%20%20%20%0A%20%20%20%20%0A%20%20%20%20%20%20%20%20%20%20%20%20var%20tile_layer_9cc75f0c66654649b2c0e6c4c8a8242a%20%3D%20L.tileLayer%28%0A%20%20%20%20%20%20%20%20%20%20%20%20%20%20%20%20%22https%3A//earthengine.googleapis.com/v1alpha/projects/earthengine-legacy/maps/a1a76f7c91e7f645c61e18405a8555a3-ac208f952bf8026c8cd231e16df7daa0/tiles/%7Bz%7D/%7Bx%7D/%7By%7D%22%2C%0A%20%20%20%20%20%20%20%20%20%20%20%20%20%20%20%20%7B%22attribution%22%3A%20%22Map%20Data%20%5Cu0026copy%3B%20%5Cu003ca%20href%3D%5C%22https%3A//earthengine.google.com/%5C%22%5Cu003eGoogle%20Earth%20Engine%5Cu003c/a%5Cu003e%22%2C%20%22detectRetina%22%3A%20false%2C%20%22maxNativeZoom%22%3A%2018%2C%20%22maxZoom%22%3A%2018%2C%20%22minZoom%22%3A%200%2C%20%22noWrap%22%3A%20false%2C%20%22opacity%22%3A%201%2C%20%22subdomains%22%3A%20%22abc%22%2C%20%22tms%22%3A%20false%7D%0A%20%20%20%20%20%20%20%20%20%20%20%20%29.addTo%28map_3e4dc531d430408c872d509ece44385f%29%3B%0A%20%20%20%20%20%20%20%20%0A%3C/script%3E onload=\"this.contentDocument.open();this.contentDocument.write(    decodeURIComponent(this.getAttribute('data-html')));this.contentDocument.close();\" allowfullscreen webkitallowfullscreen mozallowfullscreen></iframe></div></div>"
      ],
      "text/plain": [
       "<folium.folium.Map at 0x7fd09c410bb0>"
      ]
     },
     "metadata": {},
     "output_type": "display_data"
    }
   ],
   "source": [
    "# show transformed image\n",
    "\n",
    "band = 'Rrs_560'\n",
    "\n",
    "min = minValues.get(band);\n",
    "max = maxValues.get(band);\n",
    "\n",
    "min = min.getInfo();\n",
    "max = max.getInfo();\n",
    "\n",
    "p75 = percentiles25.get(band);\n",
    "p25 = percentiles75.get(band);\n",
    "\n",
    "p75 = p75.getInfo();\n",
    "p25 = p25.getInfo();\n",
    "\n",
    "median = medians.get(band).getInfo();\n",
    "\n",
    "PALETTE = [\n",
    "  'ffffd9',\n",
    "  'edf8b1',\n",
    "  'c7e9b4',\n",
    "  '7fcdbb',\n",
    "  '41b6c4',\n",
    "  '1d91c0',\n",
    "  '225ea8',\n",
    "  '253494',    \n",
    "  '081d58'\n",
    "]\n",
    "\n",
    "vis = {\n",
    " \"bands\": [ band ], \"min\": (min-median) / (p75 - p25), \"max\": (max - median) / (p75 - p25), \"palette\": PALETTE}\n",
    "\n",
    "\n",
    "map_id = transformedImages.getMapId(vis)\n",
    "map = folium.Map(location=[39.279839, -76.31669])\n",
    "folium.TileLayer(\n",
    "  tiles=map_id['tile_fetcher'].url_format,\n",
    "  attr='Map Data &copy; <a href=\"https://earthengine.google.com/\">Google Earth Engine</a>',\n",
    "  overlay=True,\n",
    "  name='Prediction for TSS',\n",
    ").add_to(map)\n",
    "display(map)"
   ]
  },
  {
   "cell_type": "code",
   "execution_count": 22,
   "id": "dd6d08fd",
   "metadata": {},
   "outputs": [],
   "source": [
    "IMAGE_FILE_PREFIX = 'Image_pixel_demo_'\n",
    "OUTPUT_BUCKET = 'solid_cboros'\n",
    "OUTPUT_IMAGE_FILE = 'gs://' + OUTPUT_BUCKET + '/Classified_pixel_demo.TFRecord'\n",
    "\n",
    "# Specify patch and file dimensions.\n",
    "image_export_options = {\n",
    "  'patchDimensions': [128, 128],\n",
    "  'maxFileSize': 104857600,\n",
    "  'compressed': True\n",
    "}\n",
    "\n",
    "# Setup the task.\n",
    "image_task = ee.batch.Export.image.toCloudStorage(\n",
    "  image=transformedImages,\n",
    "  description='Image Export',\n",
    "  fileNamePrefix=IMAGE_FILE_PREFIX,\n",
    "  bucket=OUTPUT_BUCKET,\n",
    "  scale=60,\n",
    "  fileFormat='TFRecord',\n",
    "  region=geometry.toGeoJSON()['coordinates'],\n",
    "  formatOptions=image_export_options,\n",
    ")"
   ]
  },
  {
   "cell_type": "code",
   "execution_count": 23,
   "id": "0ce31259",
   "metadata": {
    "scrolled": true
   },
   "outputs": [],
   "source": [
    "image_task.start()"
   ]
  },
  {
   "cell_type": "code",
   "execution_count": 25,
   "id": "50ddeb04",
   "metadata": {
    "scrolled": true
   },
   "outputs": [
    {
     "name": "stdout",
     "output_type": "stream",
     "text": [
      "[<Task ZG6RMFTERL42ES5CFFWDPFG5 EXPORT_IMAGE: Image Export (COMPLETED)>,\n",
      " <Task GMW23D7CGIHXO76GUTCJRMOW EXPORT_IMAGE: Image Export (COMPLETED)>,\n",
      " <Task IX6Y2P2JVS76E4TZTMCG2RD7 EXPORT_IMAGE: Image Export (COMPLETED)>]\n"
     ]
    }
   ],
   "source": [
    "pprint(ee.batch.Task.list())"
   ]
  },
  {
   "cell_type": "code",
   "execution_count": 26,
   "id": "5ac2287e",
   "metadata": {},
   "outputs": [
    {
     "name": "stdout",
     "output_type": "stream",
     "text": [
      "['gs://solid_cboros/Image_pixel_demo_.tfrecord.gz']\n",
      "'gs://solid_cboros/Image_pixel_demo_.json'\n"
     ]
    }
   ],
   "source": [
    "# Get a list of all the files in the output bucket.\n",
    "files_list = !gsutil ls 'gs://'{OUTPUT_BUCKET}\n",
    "# Get only the files generated by the image export.\n",
    "exported_files_list = [s for s in files_list if IMAGE_FILE_PREFIX in s]\n",
    "\n",
    "# Get the list of image files and the JSON mixer file.\n",
    "image_files_list = []\n",
    "json_file = None\n",
    "for f in exported_files_list:\n",
    "  if f.endswith('.tfrecord.gz'):\n",
    "    image_files_list.append(f)\n",
    "  elif f.endswith('.json'):\n",
    "    json_file = f\n",
    "\n",
    "# Make sure the files are in the right order.\n",
    "image_files_list.sort()\n",
    "\n",
    "pprint(image_files_list)\n",
    "pprint(json_file)"
   ]
  },
  {
   "cell_type": "code",
   "execution_count": 27,
   "id": "83a29806",
   "metadata": {},
   "outputs": [
    {
     "name": "stdout",
     "output_type": "stream",
     "text": [
      "{'patchDimensions': [128, 128],\n",
      " 'patchesPerRow': 7,\n",
      " 'projection': {'affine': {'doubleMatrix': [0.0006022351935022611,\n",
      "                                            0.0,\n",
      "                                            -76.60002136230469,\n",
      "                                            0.0,\n",
      "                                            0.0004823851694822855,\n",
      "                                            39.04213333129883]},\n",
      "                'crs': 'EPSG:4326'},\n",
      " 'totalPatches': 63}\n"
     ]
    }
   ],
   "source": [
    "import json\n",
    "from pprint import pprint\n",
    "\n",
    "# Load the contents of the mixer file to a JSON object.\n",
    "json_text = !gsutil cat {json_file}\n",
    "# Get a single string w/ newlines from the IPython.utils.text.SList\n",
    "mixer = json.loads(json_text.nlstr)\n",
    "pprint(mixer)"
   ]
  },
  {
   "cell_type": "code",
   "execution_count": 28,
   "id": "657a13dc",
   "metadata": {},
   "outputs": [],
   "source": [
    "def print_ds(dataset):\n",
    "    numpy_ds = tfds.as_numpy(dataset)\n",
    "    for o in numpy_ds:\n",
    "        print(o)"
   ]
  },
  {
   "cell_type": "code",
   "execution_count": 29,
   "id": "f4f0b8b2",
   "metadata": {
    "scrolled": false
   },
   "outputs": [
    {
     "name": "stdout",
     "output_type": "stream",
     "text": [
      "[16384]\n",
      "{'Rrs_443': FixedLenFeature(shape=[16384], dtype=tf.float32, default_value=None), 'Rrs_492': FixedLenFeature(shape=[16384], dtype=tf.float32, default_value=None), 'Rrs_560': FixedLenFeature(shape=[16384], dtype=tf.float32, default_value=None), 'Rrs_665': FixedLenFeature(shape=[16384], dtype=tf.float32, default_value=None), 'Rrs_704': FixedLenFeature(shape=[16384], dtype=tf.float32, default_value=None)}\n"
     ]
    }
   ],
   "source": [
    "# Get relevant info from the JSON mixer file.\n",
    "patch_width = mixer['patchDimensions'][0]\n",
    "patch_height = mixer['patchDimensions'][1]\n",
    "patches = mixer['totalPatches']\n",
    "patch_dimensions_flat = [patch_width * patch_height]\n",
    "\n",
    "print(patch_dimensions_flat)\n",
    "\n",
    "# Note that the tensors are in the shape of a patch, one patch for each band.\n",
    "image_columns = [\n",
    "  tf.io.FixedLenFeature(shape=patch_dimensions_flat, dtype=tf.float32) \n",
    "    for k in BANDS\n",
    "]\n",
    "\n",
    "# Parsing dictionary.\n",
    "image_features_dict = dict(zip(BANDS, image_columns))\n",
    "print(image_features_dict)\n",
    "\n",
    "# Note that you can make one dataset from many files by specifying a list.\n",
    "image_dataset = tf.data.TFRecordDataset(image_files_list, compression_type='GZIP')\n",
    "\n",
    "\n",
    "# Parsing function.\n",
    "def parse_image(example_proto):\n",
    "  return tf.io.parse_single_example(example_proto, image_features_dict)\n",
    "\n",
    "# Parse the data into tensors, one long tensor per patch.\n",
    "image_dataset = image_dataset.map(parse_image, num_parallel_calls=5)\n",
    "\n",
    "\n",
    "#for record in image_dataset.take(1):\n",
    "#  print(repr(record))\n",
    "\n",
    "\n",
    "# Break our long tensors into many little ones.\n",
    "image_dataset = image_dataset.flat_map(\n",
    "  lambda features: tf.data.Dataset.from_tensor_slices(features)\n",
    ")\n",
    "\n",
    "\n",
    "#for record in image_dataset.take(2):\n",
    "#  print(repr(record))\n",
    "\n",
    "\n",
    "# Turn the dictionary in each record into a tuple without a label.\n",
    "image_dataset = image_dataset.map(\n",
    "  lambda data_dict: (tf.transpose(list(data_dict.values())), )\n",
    ")\n",
    "\n",
    "#for record in image_dataset.take(2):\n",
    "#  print(repr(record))\n",
    "\n",
    "#image_dataset = image_dataset.map(\n",
    "#  lambda value:  value * 10\n",
    "#)\n",
    "\n",
    "\n",
    "# Turn each patch into a batch.\n",
    "image_dataset = image_dataset.batch(patch_width * patch_height)\n",
    "\n",
    "\n",
    "#for record in image_dataset.take(2):\n",
    "#  print(repr(record))\n",
    "\n",
    "#print_ds(image_dataset)\n"
   ]
  },
  {
   "cell_type": "code",
   "execution_count": null,
   "id": "8bad5d5f",
   "metadata": {},
   "outputs": [
    {
     "name": "stdout",
     "output_type": "stream",
     "text": [
      "63/63 [==============================] - 64s 941ms/step\n"
     ]
    }
   ],
   "source": [
    "predictions = model.predict(image_dataset, steps=patches, verbose=1)"
   ]
  },
  {
   "cell_type": "code",
   "execution_count": null,
   "id": "cbda238d",
   "metadata": {},
   "outputs": [],
   "source": [
    "print('Writing to file ' + OUTPUT_IMAGE_FILE)"
   ]
  },
  {
   "cell_type": "code",
   "execution_count": null,
   "id": "2486a0d3",
   "metadata": {},
   "outputs": [],
   "source": [
    "print(len(predictions))"
   ]
  },
  {
   "cell_type": "code",
   "execution_count": null,
   "id": "777b4c07",
   "metadata": {},
   "outputs": [],
   "source": [
    "def floats_feature(value):\n",
    "  return tf.train.Feature(float_list=tf.train.FloatList(value=value))\n",
    "\n",
    "writer = tf.io.TFRecordWriter(OUTPUT_IMAGE_FILE)\n",
    "\n",
    "patch = []\n",
    "cur_patch = 1\n",
    "for prediction in predictions:\n",
    "    patch.append(prediction.tolist())\n",
    "    if (len(patch[0]) == patch_width * patch_height):\n",
    "        print('Done with patch ' + str(cur_patch) + ' of ' + str(patches) + '...')\n",
    "        example = tf.train.Example(\n",
    "          features=tf.train.Features(\n",
    "            feature={\n",
    "              'tss': floats_feature(prediction)\n",
    "            }\n",
    "          )\n",
    "        )\n",
    "        writer.write(example.SerializeToString())\n",
    "        patch = []\n",
    "        cur_path += 1\n",
    "\n",
    "writer.close()"
   ]
  },
  {
   "cell_type": "code",
   "execution_count": null,
   "id": "1536edfc",
   "metadata": {},
   "outputs": [],
   "source": [
    "!earthengine upload image --asset_id=users/cboros/prediction --pyramiding_policy=mode {OUTPUT_IMAGE_FILE} {json_file}"
   ]
  },
  {
   "cell_type": "code",
   "execution_count": null,
   "id": "df68bad0",
   "metadata": {},
   "outputs": [],
   "source": [
    "ee.batch.Task.list()"
   ]
  },
  {
   "cell_type": "code",
   "execution_count": null,
   "id": "6d77aa8f",
   "metadata": {},
   "outputs": [],
   "source": []
  },
  {
   "cell_type": "code",
   "execution_count": null,
   "id": "b8f98468",
   "metadata": {},
   "outputs": [],
   "source": []
  }
 ],
 "metadata": {
  "kernelspec": {
   "display_name": "Python 3",
   "language": "python",
   "name": "python3"
  },
  "language_info": {
   "codemirror_mode": {
    "name": "ipython",
    "version": 3
   },
   "file_extension": ".py",
   "mimetype": "text/x-python",
   "name": "python",
   "nbconvert_exporter": "python",
   "pygments_lexer": "ipython3",
   "version": "3.8.8"
  }
 },
 "nbformat": 4,
 "nbformat_minor": 5
}
