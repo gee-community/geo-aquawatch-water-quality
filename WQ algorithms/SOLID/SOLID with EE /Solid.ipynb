{
  "cells": [
    {
      "cell_type": "markdown",
      "metadata": {
        "id": "iPkLKBuTQU5Y"
      },
      "source": [
        "# Run the Python version of SOLID"
      ]
    },
    {
      "cell_type": "markdown",
      "metadata": {
        "id": "8J1B9rCwRByy"
      },
      "source": [
        "Install SOLID."
      ]
    },
    {
      "cell_type": "code",
      "execution_count": null,
      "metadata": {
        "id": "QIW-6Vg0RHlD"
      },
      "outputs": [],
      "source": [
        "!python -m pip install git+https://github.com/BrandonSmithJ/MDN\n",
        "!pip install matplot -U\n",
        "!pip uninstall -y keras-nightly~=2.5.0.dev\n",
        "!pip install keras==2.3.1"
      ]
    },
    {
      "cell_type": "markdown",
      "metadata": {
        "id": "8eYEd3A1RNuE"
      },
      "source": [
        "Import libraries."
      ]
    },
    {
      "cell_type": "code",
      "execution_count": 34,
      "metadata": {
        "id": "8hDov5M7qXYy"
      },
      "outputs": [],
      "source": [
        "from MDN.benchmarks.tss.SOLID.model import model as SOLID\n",
        "from MDN import get_tile_data, image_estimates\n",
        " \n",
        "import matplotlib.pyplot as plt\n",
        "import numpy as np "
      ]
    },
    {
      "cell_type": "markdown",
      "metadata": {
        "id": "IX5r_IbGWBC8"
      },
      "source": [
        "Attach Google Drive."
      ]
    },
    {
      "cell_type": "code",
      "execution_count": 22,
      "metadata": {
        "colab": {
          "base_uri": "https://localhost:8080/"
        },
        "id": "6xPG-PL24M07",
        "outputId": "a7ccd44b-7764-40e6-d57f-2faba1887d5d"
      },
      "outputs": [
        {
          "name": "stdout",
          "output_type": "stream",
          "text": [
            "Mounted at /content/drive\n"
          ]
        }
      ],
      "source": [
        "\n",
        "from google.colab import drive\n",
        "drive.mount('/content/drive')"
      ]
    },
    {
      "cell_type": "code",
      "execution_count": 36,
      "metadata": {
        "id": "Dvb_2HWhZ_e9"
      },
      "outputs": [],
      "source": [
        "import sys\n",
        "sys.argv=['']\n",
        "del sys"
      ]
    },
    {
      "cell_type": "markdown",
      "metadata": {
        "id": "gCUwwmqjRWCg"
      },
      "source": [
        "Setup parameters for SOLID."
      ]
    },
    {
      "cell_type": "code",
      "execution_count": null,
      "metadata": {
        "id": "HWvIBAcxsLMm"
      },
      "outputs": [],
      "source": [
        "path   = '/content/drive/MyDrive/S2A_MSI_2018_12_27_16_02_16_T18SUJ_L2W.nc'\n",
        "sensor = 'MSI'\n",
        "\n",
        "     # Extract relevant wavelengths and respective Rrs from the netcdf\n",
        "wavelengths, Rrs = get_tile_data(path, sensor, allow_neg=False) \n",
        "print(f'Wavelengths: {wavelengths}  Rrs shape: {Rrs.shape}')\n",
        "\n",
        "    # Apply SOLID to the extracted Rrs\n",
        "MDN_kwargs = {\n",
        "   'verbose'    : True,  # Whether to shown progress through bagging rounds\n",
        "   'use_gpu'    : False, # Whether to run predictions on /gpu:0, if available.\n",
        "   'chunk_size' : None,  # Number of samples the model is applied to at one time. None indicates full set is estimated at once.\n",
        "}\n",
        "\n"
      ]
    },
    {
      "cell_type": "markdown",
      "metadata": {
        "id": "x1bHAc1xRY51"
      },
      "source": [
        "Run SOLID and plot predictions."
      ]
    },
    {
      "cell_type": "code",
      "execution_count": null,
      "metadata": {
        "id": "ayAWcR4Qsh1F"
      },
      "outputs": [],
      "source": [
        "tss = image_estimates(Rrs, function=SOLID, wavelengths=wavelengths, sensor=sensor, **MDN_kwargs)\n",
        "print(f'TSS shape: {tss.shape}')\n",
        " \n",
        "plt.imshow(np.squeeze(tss), vmin=0, vmax=100)\n",
        "plt.colorbar()\n",
        "plt.title('2018-12-27 : MSI @ 60m')\n",
        "plt.gca().tick_params(labelcolor='none', bottom=False, left=False)\n",
        "#plt.savefig('SOLID_20181227.png', bbox_inches='tight', pad_inches=0.1)\n",
        "plt.show()"
      ]
    },
    {
      "cell_type": "markdown",
      "metadata": {
        "id": "VwpCNHHQOt42"
      },
      "source": [
        "# Prepare input file for Earth Engine"
      ]
    },
    {
      "cell_type": "markdown",
      "metadata": {
        "id": "s9OSzpPyReXl"
      },
      "source": [
        "Netcdf file has to be converted to geotiff before it can be uploaded to Earth Engine. We use gdal to convert it.\n",
        "\n",
        "\n"
      ]
    },
    {
      "cell_type": "code",
      "execution_count": 39,
      "metadata": {
        "id": "-5KWljDuIyaD"
      },
      "outputs": [],
      "source": [
        "from osgeo import gdal, osr, gdal_array\n",
        "import numpy as np\n",
        "import pandas as pd"
      ]
    },
    {
      "cell_type": "markdown",
      "metadata": {
        "id": "Ms4_SVskRvOU"
      },
      "source": [
        "Inspect netcdf file"
      ]
    },
    {
      "cell_type": "code",
      "execution_count": null,
      "metadata": {
        "id": "qe3UK8ahKwVC"
      },
      "outputs": [],
      "source": [
        "ds = gdal.Open(path)\n",
        "for item in ds.GetSubDatasets():\n",
        "    print(item[0])\n",
        "    index = item[0].rfind(':') + 1\n",
        "    print(item[0][index:])"
      ]
    },
    {
      "cell_type": "markdown",
      "metadata": {
        "id": "GIRkrQE_R0-e"
      },
      "source": [
        "Find geo transform by reading lon and lat values from netcdf file."
      ]
    },
    {
      "cell_type": "code",
      "execution_count": null,
      "metadata": {
        "id": "w9FmLcXhStzc"
      },
      "outputs": [],
      "source": [
        "subset = gdal.Open('NETCDF:\"/content/drive/MyDrive/S2A_MSI_2018_12_27_16_02_16_T18SUJ_L2W.nc\":lon')\n",
        "\n",
        "print(f'shape: {subset.ReadAsArray().shape}')\n",
        "print(f'rasterXSize: {subset.RasterXSize}')\n",
        "print(f'rasterYSize: {subset.RasterYSize}')\n",
        "\n",
        "lngmin  = subset.ReadAsArray()[0,0]\n",
        "lngmax = subset.ReadAsArray()[subset.RasterYSize - 1, subset.RasterXSize - 1]\n",
        "print(f'longitude min: {lngmin}')\n",
        "print(f'longitude max: {lngmax}')\n",
        "\n",
        "subset = gdal.Open('NETCDF:\"/content/drive/MyDrive/S2A_MSI_2018_12_27_16_02_16_T18SUJ_L2W.nc\":lat')\n",
        "latmin  = subset.ReadAsArray()[0,0]\n",
        "latmax = subset.ReadAsArray()[subset.RasterYSize - 1, subset.RasterXSize - 1]\n",
        "print(f'latitude min: {latmin}')\n",
        "print(f'latitude max: {latmax}')\n",
        "\n",
        "transform = (lngmin, (lngmax - lngmin) / subset.RasterXSize, 0.0, latmin, 0.0, (latmax - latmin) / subset.RasterYSize)\n",
        "print(f'geo transform: {transform}')\n"
      ]
    },
    {
      "cell_type": "markdown",
      "metadata": {
        "id": "yaYy2eghSd84"
      },
      "source": [
        "Define method for converting to geotiff."
      ]
    },
    {
      "cell_type": "code",
      "execution_count": 42,
      "metadata": {
        "id": "P1nLx5k3cPXw"
      },
      "outputs": [],
      "source": [
        "import os\n",
        "\n",
        "def create_geotiff(suffix, input_file, result, geot):\n",
        "    # Get subdatasets \n",
        "    ds = gdal.Open(input_file)\n",
        "    subsets = ds.GetSubDatasets()\n",
        "\n",
        "    # Read the first one \n",
        "    sub_ds = gdal.Open(subsets[0][0])\n",
        "    xsize = sub_ds.RasterXSize\n",
        "    ysize = sub_ds.RasterYSize\n",
        "    data = sub_ds.ReadAsArray(0, 0, xsize, ysize)\n",
        "    dt = gdal_array.NumericTypeCodeToGDALTypeCode(data.dtype)\n",
        "    if type(dt) != np.int:\n",
        "        if dt.startswith('gdal.GDT_') is False:\n",
        "            dt = eval('gdal.GDT_'+dt)\n",
        "    new_fname = suffix + '.tif'\n",
        "    \n",
        "    # Define projection\n",
        "    proj = osr.SpatialReference()\n",
        "    proj.SetWellKnownGeogCS('WGS84')\n",
        "\n",
        "    driver = gdal.GetDriverByName('GTiff')\n",
        "    zsize = len(subsets) + 1\n",
        "    ds = driver.Create(new_fname, xsize, ysize, zsize, dt)\n",
        "    ds.SetProjection(proj.ExportToWkt())\n",
        "    ds.SetGeoTransform(geot)\n",
        "\n",
        "    for index in range(0, len(subsets) - 1):\n",
        "      subset = gdal.Open(subsets[index][0])\n",
        "      data = subset.ReadAsArray(0, 0, xsize, ysize)\n",
        "      ndv = subset.GetRasterBand(1).GetNoDataValue()\n",
        "      d = data\n",
        "#      d = np.flip(data, 0)\n",
        "      d[np.isnan(d)] = ndv\n",
        "      ds.GetRasterBand(index + 1).WriteArray(d)\n",
        "      ds.GetRasterBand(index + 1).SetNoDataValue(ndv)\n",
        "      print(f'(Writing band: {subsets[index][0]}')\n",
        "\n",
        "    d = np.flip(result, 0)\n",
        "    subset = gdal.Open(subsets[2][0])\n",
        "    d[np.isnan(d)] = subset.GetRasterBand(1).GetNoDataValue()\n",
        "    ds.GetRasterBand(len(subsets) + 1 ).WriteArray(d)\n",
        "    ds.GetRasterBand(len(subsets) + 1).SetNoDataValue(ndv)\n",
        "    print(f'(Writing band tss')\n",
        "\n",
        "    ds.FlushCache()\n",
        "    return new_fname"
      ]
    },
    {
      "cell_type": "markdown",
      "metadata": {
        "id": "5G6BTdAUSktc"
      },
      "source": [
        "Convert prediction result to geotiff and write it to google drive.\n",
        "\n",
        "\n"
      ]
    },
    {
      "cell_type": "code",
      "execution_count": null,
      "metadata": {
        "id": "k5xh_vtocYnn"
      },
      "outputs": [],
      "source": [
        "#subset = gdal.Open('NETCDF:\"/content/drive/MyDrive/S2A_MSI_2018_12_27_16_02_16_T18SUJ_L2W.nc\":Rrs_443')\n",
        "#ndv, xs, ys, geot, proj = get_netcdf_info(path, 'Rrs_443')\n",
        "\n",
        "outdir = '/content/drive/MyDrive'\n",
        "outname = 'geotiff'\n",
        "#create_geotiff('{}{}out_{}'.format(outdir, os.path.sep, outname), subset.ReadAsArray()[0:1069, 0: 805], ndv, xs, ys, transform, proj)\n",
        "#create_geotiff('{}{}out_{}'.format(outdir, os.path.sep, outname), tss[:,:,0], ndv, xs, ys, transform)#\n",
        "create_geotiff('{}{}out_{}'.format(outdir, os.path.sep, outname), path, tss[:,:,0], transform)"
      ]
    },
    {
      "cell_type": "markdown",
      "metadata": {
        "id": "Y3JXHAFaSwSW"
      },
      "source": [
        "File has to be uploaded to Google bucket first before uploading it to Earth Engine. Login to Google Cloud."
      ]
    },
    {
      "cell_type": "code",
      "execution_count": null,
      "metadata": {
        "id": "MGuveinTsT8f"
      },
      "outputs": [],
      "source": [
        "!gcloud auth login "
      ]
    },
    {
      "cell_type": "markdown",
      "metadata": {
        "id": "ynN3YNI6TD4G"
      },
      "source": [
        "Upload file to bucket. Change the bucket name to your bucket."
      ]
    },
    {
      "cell_type": "code",
      "execution_count": null,
      "metadata": {
        "id": "MZLxXIGjuuTv"
      },
      "outputs": [],
      "source": [
        "BUCKET = 'YOUR_BUCKET_NAME'\n",
        "GS_URL = 'gs://' + BUCKET + '/geotiff.tiff'\n",
        "!gsutil cp '/content/drive/MyDrive/out_geotiff.tif' {GS_URL}"
      ]
    },
    {
      "cell_type": "markdown",
      "metadata": {
        "id": "rtFADZftTIzI"
      },
      "source": [
        "Check file has been uploaded. "
      ]
    },
    {
      "cell_type": "code",
      "execution_count": null,
      "metadata": {
        "id": "g3GVQGTbOJ1c"
      },
      "outputs": [],
      "source": [
        "!gsutil ls -l {GS_URL}"
      ]
    },
    {
      "cell_type": "markdown",
      "metadata": {
        "id": "X__Jri-PTN8m"
      },
      "source": [
        "Sign in to Earth Engine."
      ]
    },
    {
      "cell_type": "code",
      "execution_count": null,
      "metadata": {
        "id": "TOFv0Zb3vF0R"
      },
      "outputs": [],
      "source": [
        "import ee\n",
        "ee.Authenticate()\n",
        "ee.Initialize()"
      ]
    },
    {
      "cell_type": "markdown",
      "metadata": {
        "id": "TaD48wuaTXjK"
      },
      "source": [
        "Upload file to Earth Engine from Google Cloud Storage. Change the ASSET_ID to your asset id."
      ]
    },
    {
      "cell_type": "code",
      "execution_count": null,
      "metadata": {
        "id": "_bzRGWfjvstz"
      },
      "outputs": [],
      "source": [
        "import json\n",
        "ASSET_ID = 'YOUR_EARTH_ENGINE_ASSET_ID'\n",
        "manifest = {\n",
        "  \"name\": \"projects/earthengine-legacy/assets/\" + ASSET_ID,\n",
        "  \"tilesets\": [\n",
        "    {\n",
        "      \"sources\": [\n",
        "        {\n",
        "          \"uris\": [\n",
        "            GS_URL\n",
        "          ]\n",
        "        }\n",
        "      ]\n",
        "    }\n",
        "  ]\n",
        "}\n",
        "ds = gdal.Open(path)\n",
        "bands = []\n",
        "ind = 0\n",
        "print(\"Writing bands:\")\n",
        "for item in ds.GetSubDatasets():\n",
        "    index = item[0].rfind(':') + 1\n",
        "    band = item[0][index:]\n",
        "    print(band)\n",
        "    bands.append({\"id\": band, \"tileset_band_index\": ind})\n",
        "    ind += 1\n",
        "\n",
        "bands.append({\"id\": \"tss\", \"tileset_band_index\": ind})\n",
        "print(\"tss\")\n",
        "manifest[\"bands\"] = bands\n",
        "MANIFEST_FILE = outdir + \"/maifest.json\"\n",
        "f = open(MANIFEST_FILE, \"w\")\n",
        "f.write(json.dumps(manifest))\n",
        "f.close()\n",
        "\n",
        "!earthengine upload image --manifest {MANIFEST_FILE}"
      ]
    },
    {
      "cell_type": "markdown",
      "metadata": {
        "id": "hvyTyj4VTgud"
      },
      "source": [
        "Check upload job."
      ]
    },
    {
      "cell_type": "code",
      "execution_count": null,
      "metadata": {
        "id": "Ru8QEaLFMaL5"
      },
      "outputs": [],
      "source": [
        "ee.batch.Task.list()[0]"
      ]
    },
    {
      "cell_type": "markdown",
      "metadata": {
        "id": "tCPDcediTnWn"
      },
      "source": [
        "Now that results are available in Earth Engine show it on map.\n"
      ]
    },
    {
      "cell_type": "code",
      "execution_count": null,
      "metadata": {
        "id": "uneIt1XLOZdj"
      },
      "outputs": [],
      "source": [
        "import folium\n",
        "image = ee.Image(ASSET_ID)\n",
        "vis = {\n",
        "  'bands': ['tss'],\n",
        "  'min': 0,\n",
        "  'max': 100,\n",
        "  'palette': ['081d58','253494','225ea8','1d91c0','41b6c4','7fcdbb','c7e9b4','edf8b1','ffffd9']\n",
        "}\n",
        "map_id = image.getMapId(vis)\n",
        "map = folium.Map(location=[39.279839, -76.31669])\n",
        "folium.TileLayer(\n",
        "  tiles=map_id['tile_fetcher'].url_format,\n",
        "  attr='Map Data &copy; <a href=\"https://earthengine.google.com/\">Google Earth Engine</a>',\n",
        "  overlay=True,\n",
        "  name='Prediction for TSS',\n",
        ").add_to(map)\n",
        "geometry = ee.Geometry.Polygon([[[-76.10,39.38],[-76.10,39.40],\n",
        "                                [-76.06, 39.40], [-76.06,39.38],\n",
        "                                [-76.10,39.38]]])\n",
        "folium.GeoJson(data=geometry.getInfo(), name='Geometry', overlay=True).add_to(map)\n",
        "map.add_child(folium.LayerControl())\n",
        "\n",
        "display(map)"
      ]
    },
    {
      "cell_type": "markdown",
      "metadata": {
        "id": "AhoiKB-Hb9OY"
      },
      "source": [
        "# Use Earth Engine asset as input to calculation\n",
        "Now, that we have imported the input image to EE, we try to use the image to do the calculation. We convert each band to a numpy array and stack them to a 3 dim tensor. \n",
        "\n"
      ]
    },
    {
      "cell_type": "code",
      "execution_count": null,
      "metadata": {
        "id": "Z8Glfpb1cfRu"
      },
      "outputs": [],
      "source": [
        "# Convert image bands to numpy arrays in selected rectangle\n",
        "bands = [443, 492, 560, 665, 704, 740, 783] \n",
        "image_array = []\n",
        "for i in range(len(bands)):\n",
        "    band = 'Rrs_' + str(bands[i])\n",
        "    array = image.select(band).sampleRectangle(region=geometry)\n",
        "    array = array.getInfo().get('properties').get(band)\n",
        "    np_array = np.array(array)\n",
        "    image_array.append(np_array)\n",
        "    print(np_array.shape)"
      ]
    },
    {
      "cell_type": "code",
      "execution_count": null,
      "metadata": {
        "id": "5KByKK_vdGbY"
      },
      "outputs": [],
      "source": [
        "# stack array together to a 3 dim tensor, 3rd dimension = band\n",
        "stack = np.ma.stack(image_array, axis=2)\n",
        "stack.shape"
      ]
    },
    {
      "cell_type": "code",
      "execution_count": null,
      "metadata": {
        "id": "PBVAMZWNdfG0"
      },
      "outputs": [],
      "source": [
        "# Run the calculation on this tensor\n",
        "tss = image_estimates(stack, function=SOLID, wavelengths=bands, sensor=sensor, **MDN_kwargs)"
      ]
    },
    {
      "cell_type": "code",
      "execution_count": 55,
      "metadata": {
        "colab": {
          "base_uri": "https://localhost:8080/",
          "height": 258
        },
        "id": "2VB1qGtbdxby",
        "outputId": "b42f89b3-5000-4b5c-b9b9-f40c5781db6c"
      },
      "outputs": [
        {
          "data": {
            "image/png": "[encoded data removed]",
            "text/plain": [
              "<Figure size 432x288 with 2 Axes>"
            ]
          },
          "metadata": {
            "needs_background": "light"
          },
          "output_type": "display_data"
        }
      ],
      "source": [
        "# Show result\n",
        "plt.imshow(np.squeeze(tss), vmin=0, vmax=100)\n",
        "plt.colorbar()\n",
        "plt.title('2018-12-27 : MSI @ 60m')\n",
        "plt.gca().tick_params(labelcolor='none', bottom=False, left=False)\n",
        "#plt.savefig('SOLID_20181227.png', bbox_inches='tight', pad_inches=0.1)\n",
        "plt.show()"
      ]
    },
    {
      "cell_type": "markdown",
      "metadata": {
        "id": "WsnQXxITeV-N"
      },
      "source": [
        "# Running SOLID on a sentinel image from in EE\n",
        "Let's try the calculation on an sentinel image from EE, the bands are B1 to B7. We choos an image which covers the selected geometry. "
      ]
    },
    {
      "cell_type": "code",
      "execution_count": null,
      "metadata": {
        "id": "-37XYylXek3M"
      },
      "outputs": [],
      "source": [
        "band_names = ['B1', 'B2', 'B3', 'B4', 'B5', 'B6', 'B7'] \n",
        "sentinel_image = ee.Image('COPERNICUS/S2_SR/20200116T155609_20200116T155605_T18SUJ');\n",
        "\n",
        "image_array = []\n",
        "for i in range(len(bands)):\n",
        "    array = sentinel_image.select(band_names[i]).sampleRectangle(region=geometry)\n",
        "    array = array.getInfo().get('properties').get(band_names[i])\n",
        "    np_array = np.array(array)\n",
        "    np_array = np.resize(np_array, (38, 59))\n",
        "    image_array.append(np_array)\n",
        "    print(np_array.shape)"
      ]
    },
    {
      "cell_type": "code",
      "execution_count": null,
      "metadata": {
        "id": "u1LrZUpJgLCi"
      },
      "outputs": [],
      "source": [
        "stack = np.ma.stack(image_array, axis=2)\n",
        "stack.shape"
      ]
    },
    {
      "cell_type": "code",
      "execution_count": null,
      "metadata": {
        "id": "7th6YWaDgPtl"
      },
      "outputs": [],
      "source": [
        "# Run the calculation\n",
        "tss = image_estimates(stack, function=SOLID, wavelengths=bands, sensor=sensor, **MDN_kwargs)"
      ]
    },
    {
      "cell_type": "markdown",
      "metadata": {
        "id": "mzS3QORxTiF-"
      },
      "source": [
        "# [WIP] Attempt at getting rioxarray to work..."
      ]
    },
    {
      "cell_type": "code",
      "execution_count": null,
      "metadata": {
        "id": "-4nGJaoTTl-8"
      },
      "outputs": [],
      "source": [
        "!pip install rioxarray"
      ]
    },
    {
      "cell_type": "code",
      "execution_count": null,
      "metadata": {
        "id": "jPooLeEiSppu"
      },
      "outputs": [],
      "source": [
        "import xarray\n",
        "import rioxarray\n",
        "import rasterio"
      ]
    },
    {
      "cell_type": "code",
      "execution_count": null,
      "metadata": {
        "id": "cXuC_UY9TJoC"
      },
      "outputs": [],
      "source": [
        "xds = xarray.open_dataset(\n",
        "    \"/content/drive/MyDrive/S2A_MSI_2018_12_27_16_02_16_T18SUJ_L2W.nc\",\n",
        "    decode_coords=\"all\"\n",
        ")"
      ]
    },
    {
      "cell_type": "code",
      "execution_count": null,
      "metadata": {
        "id": "1WdIoi46TNso"
      },
      "outputs": [],
      "source": [
        "xds"
      ]
    },
    {
      "cell_type": "code",
      "execution_count": null,
      "metadata": {
        "id": "VUV-sD1TnsqI"
      },
      "outputs": [],
      "source": [
        "xds = xds.rename({'lon':'x', 'lat':'y'})"
      ]
    },
    {
      "cell_type": "code",
      "execution_count": null,
      "metadata": {
        "id": "foR_1IVdqCL5"
      },
      "outputs": [],
      "source": [
        "xds"
      ]
    },
    {
      "cell_type": "code",
      "execution_count": null,
      "metadata": {
        "id": "LD4NOjEXo081"
      },
      "outputs": [],
      "source": [
        "xds.rio.set_spatial_dims('x', 'y', inplace=True)"
      ]
    },
    {
      "cell_type": "code",
      "execution_count": null,
      "metadata": {
        "id": "FSfiK-geU7y9"
      },
      "outputs": [],
      "source": [
        "xds.rio.write_crs(\"epsg:4326\", inplace=True)"
      ]
    },
    {
      "cell_type": "code",
      "execution_count": null,
      "metadata": {
        "id": "CQMTRji9iTz1"
      },
      "outputs": [],
      "source": [
        "xds.rio.write_transform(\n",
        "    rasterio.Affine(lngmin,\n",
        "                    (lngmax - lngmin) / subset.RasterXSize,\n",
        "                    0.0,\n",
        "                    latmin,\n",
        "                    0.0,\n",
        "                    (latmax - latmin) / subset.RasterYSize)\n",
        ")"
      ]
    },
    {
      "cell_type": "code",
      "execution_count": null,
      "metadata": {
        "id": "0C4YI_aybrR_"
      },
      "outputs": [],
      "source": [
        "xds.rio.crs"
      ]
    },
    {
      "cell_type": "markdown",
      "metadata": {
        "id": "SxgRDTtfbZb6"
      },
      "source": [
        "Convert each of the bands to GeoTIFF files."
      ]
    },
    {
      "cell_type": "code",
      "execution_count": null,
      "metadata": {
        "id": "P6CClykvmRZW"
      },
      "outputs": [],
      "source": [
        "[band for band in xds.variables]"
      ]
    },
    {
      "cell_type": "code",
      "execution_count": null,
      "metadata": {
        "id": "ban9yLQpTTuR"
      },
      "outputs": [],
      "source": [
        "for band in xds.variables:\n",
        "  if band.startswith('Rrs_'):\n",
        "    print(band)\n",
        "    xds[band].rio.to_raster(f'{band}.tif')"
      ]
    },
    {
      "cell_type": "markdown",
      "metadata": {
        "id": "nyWx112PmyL4"
      },
      "source": [
        "# Start building SOLID with S2 SR while Acolite version is sorted\n"
      ]
    },
    {
      "cell_type": "code",
      "execution_count": null,
      "metadata": {
        "id": "-ZL4LkJWnELi"
      },
      "outputs": [],
      "source": [
        "!pip install geemap --quiet"
      ]
    },
    {
      "cell_type": "code",
      "execution_count": null,
      "metadata": {
        "id": "9xUeGD3CnQA9"
      },
      "outputs": [],
      "source": [
        "import geemap"
      ]
    },
    {
      "cell_type": "code",
      "execution_count": null,
      "metadata": {
        "id": "AgKnIKrCn5Wl"
      },
      "outputs": [],
      "source": [
        "Map = geemap.Map(center=[42,-71], zoom= 9)\n",
        "Map"
      ]
    },
    {
      "cell_type": "markdown",
      "metadata": {
        "id": "MhKohR50nd-M"
      },
      "source": [
        "Get s2 sr imagery for Narragansett Bay region"
      ]
    },
    {
      "cell_type": "code",
      "execution_count": null,
      "metadata": {
        "id": "n-Ps8Q7QpSA7"
      },
      "outputs": [],
      "source": [
        "import ee\n",
        "NBay = ee.Geometry.Polygon(\n",
        "        [[[-71.44643316430347, 41.92140472212022],\n",
        "          [-71.53981695336597, 41.48257061731345],\n",
        "          [-71.47939214867847, 41.3383770483458],\n",
        "          [-71.16078863305347, 41.42699101424345],\n",
        "          [-71.16095830370352, 41.64257191827559],\n",
        "          [-70.97676763695972, 41.88869830740288],\n",
        "          [-71.15111544654354, 41.97883748042962]]])\n",
        "\n",
        "imageVisParam = {\"opacity\":1,\"bands\":[\"B4\",\"B3\",\"B2\"],\"min\":-560.1588934829267,\"max\":2614.3187289464204,\"gamma\":1}"
      ]
    },
    {
      "cell_type": "code",
      "execution_count": null,
      "metadata": {
        "id": "u1Tau6jbnVDa"
      },
      "outputs": [],
      "source": [
        "\n",
        "area=NBay\n",
        "#Time window\n",
        "startyear = 2020\n",
        "endyear = 2020;\n",
        "startmonth = 1\n",
        "endmonth = 12\n",
        "\n",
        "imageCollection = ee.ImageCollection(\"COPERNICUS/S2_SR\")\\\n",
        "  .filterBounds(area)\\\n",
        "  .filter(ee.Filter.lt('HIGH_PROBA_CLOUDS_PERCENTAGE',50))\\\n",
        "  .filter(ee.Filter.calendarRange(startyear,endyear,'year'))\\\n",
        "  .filter(ee.Filter.calendarRange(startmonth,endmonth,'month'))\\\n",
        "  .sort('system:time_start')\\\n",
        "  .set('SENSOR_ID', 'OLI_TIRS')\n",
        "\n",
        "#old s2 cloudmask and water, there is a different new one, but keeping it simple\n",
        "def cloudmask(img):\n",
        "                  mask = img.select(['SCL']).eq(6)\n",
        "                  notcloud=img.select(['QA60']).eq(0)\n",
        "                  img=img.updateMask(mask)\n",
        "                  img=img.updateMask(notcloud)\n",
        "                  return img\n",
        "\n",
        "imageCollection = imageCollection.map(cloudmask)\n",
        "\n",
        "#Map.addLayer(imageCollection.median(),imageVisParam,\"result1\")"
      ]
    },
    {
      "cell_type": "markdown",
      "metadata": {
        "id": "wTBSfwhTp6hw"
      },
      "source": [
        "Keep just one image to learn on and classify the \"type\" of SOLID water\n"
      ]
    },
    {
      "cell_type": "code",
      "execution_count": null,
      "metadata": {
        "id": "HXPA9__lp5h2"
      },
      "outputs": [],
      "source": [
        "image = ee.Image(imageCollection.sort('HIGH_PROBA_CLOUDS_PERCENTAGE').first());\n",
        "Map.addLayer(imageCollection.median(),imageVisParam,\"image\")\n",
        "\n"
      ]
    },
    {
      "cell_type": "markdown",
      "metadata": {
        "id": "FYw0f89bzBzO"
      },
      "source": [
        "Create water type from band rules from SOLID"
      ]
    },
    {
      "cell_type": "markdown",
      "metadata": {
        "id": "GF4t_5FBy3EH"
      },
      "source": [
        "![Screen Shot 2021-12-13 at 7.34.49 AM.png](data:image/png;base64,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)\n"
      ]
    },
    {
      "cell_type": "code",
      "execution_count": null,
      "metadata": {
        "id": "t7srcK9Xq9vx"
      },
      "outputs": [],
      "source": [
        "# B4 - R(665)\n",
        "# B3 - R(560)\n",
        "# B2 - R(492)\n",
        "# B6 - R(740)\n",
        "\n",
        "def watertype(img): \n",
        "  b4 = img.select(\"B4\")\n",
        "  b3 = img.select(\"B3\")\n",
        "  b2 = img.select(\"B2\")\n",
        "  b6 = img.select(\"B6\")\n",
        "  \n",
        "  typeII = b4.lt(b3).And(b4.gt(b2)\n",
        "  \n",
        "  return img.addBands(typeII)\n",
        "\n",
        " #typeIII= ee.Number(test) #not sure what sr is. Add them all up?  \n",
        " # typeI = b3.lt(b2)\n",
        " # typeII = 1-typeI\n",
        " #img.addBands([typeII,typeIII,typeI,typeII])\n",
        "\n",
        "\n",
        "\n"
      ]
    }
  ],
  "metadata": {
    "colab": {
      "collapsed_sections": [
        "mzS3QORxTiF-"
      ],
      "name": "Solid.ipynb",
      "provenance": []
    },
    "kernelspec": {
      "display_name": "Python 3",
      "name": "python3"
    },
    "language_info": {
      "name": "python"
    }
  },
  "nbformat": 4,
  "nbformat_minor": 0
}
